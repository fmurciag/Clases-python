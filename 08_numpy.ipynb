{
 "cells": [
  {
   "cell_type": "markdown",
   "metadata": {},
   "source": [
    "#  Introducción a NumPy \n",
    "¿Qué es NumPy?\n",
    "\n",
    "- Biblioteca para Python que permite realizar cálculos matemáticos y operaciones sobre arrays de manera eficiente.\n",
    "- Está implementado en C y Fortran, lo que lo hace muy rápido comparado con las listas de Python.\n",
    "- Base para otras bibliotecas como Pandas, Scikit-Learn y TensorFlow."
   ]
  },
  {
   "cell_type": "markdown",
   "metadata": {},
   "source": [
    "Installacion: \n",
    "\n",
    "`pip install numpy`\n",
    "\n",
    "Importación: \n",
    "\n",
    "```python \n",
    "import numpy as np \n",
    "```\n",
    "por convenio se suele usar el alias para acortar su nombre"
   ]
  },
  {
   "cell_type": "code",
   "execution_count": 1,
   "metadata": {},
   "outputs": [],
   "source": [
    "import numpy as np "
   ]
  },
  {
   "cell_type": "code",
   "execution_count": 2,
   "metadata": {},
   "outputs": [
    {
     "name": "stdout",
     "output_type": "stream",
     "text": [
      "CPU times: total: 6.28 s\n",
      "Wall time: 6.28 s\n"
     ]
    }
   ],
   "source": [
    "my_list = list(range(100000000)) # Utilizando Listas Python\n",
    "%time my_list2 = [x * 2 for x in my_list]"
   ]
  },
  {
   "cell_type": "code",
   "execution_count": 3,
   "metadata": {},
   "outputs": [
    {
     "name": "stdout",
     "output_type": "stream",
     "text": [
      "CPU times: total: 266 ms\n",
      "Wall time: 281 ms\n"
     ]
    }
   ],
   "source": [
    "my_arr = np.arange(100000000)  # Utilizando NumPy Arrays\n",
    "%time my_arr2 = my_arr * 2"
   ]
  },
  {
   "cell_type": "markdown",
   "metadata": {},
   "source": [
    "## Creación de Arrays\n",
    "### crear un array desde una lista o tupla"
   ]
  },
  {
   "cell_type": "code",
   "execution_count": 4,
   "metadata": {},
   "outputs": [
    {
     "name": "stdout",
     "output_type": "stream",
     "text": [
      "[1 2 3 4]\n"
     ]
    }
   ],
   "source": [
    "import numpy as np \n",
    "arr = np.array([1, 2, 3, 4])\n",
    "print(arr)\n"
   ]
  },
  {
   "cell_type": "markdown",
   "metadata": {},
   "source": [
    "### Crear un array de ceros, unos o valores aleatorio"
   ]
  },
  {
   "cell_type": "code",
   "execution_count": 23,
   "metadata": {},
   "outputs": [
    {
     "name": "stdout",
     "output_type": "stream",
     "text": [
      "[[0. 0. 0. 0.]\n",
      " [0. 0. 0. 0.]\n",
      " [0. 0. 0. 0.]]\n",
      "[[1. 1. 1.]\n",
      " [1. 1. 1.]]\n",
      "[0.16983042 0.8781425  0.09834683 0.42110763]\n"
     ]
    }
   ],
   "source": [
    "# np.random.seed(1)  # Semilla para reproducibilidad\n",
    "print(np.zeros((3, 4)))   # Array 3x4 de ceros\n",
    "print(np.ones((2, 3)))    # Array 2x3 de unos\n",
    "print(np.random.rand(4))  # Array con 4 valores aleatorios entre 0 y 1\n"
   ]
  },
  {
   "cell_type": "markdown",
   "metadata": {},
   "source": [
    "###  Crear un array con valores en un rango o espacio lineal"
   ]
  },
  {
   "cell_type": "code",
   "execution_count": 24,
   "metadata": {},
   "outputs": [
    {
     "name": "stdout",
     "output_type": "stream",
     "text": [
      "[0 2 4 6 8]\n",
      "[0.   0.25 0.5  0.75 1.  ]\n"
     ]
    }
   ],
   "source": [
    "print(np.arange(0, 10, 2))      # [0 2 4 6 8]\n",
    "print(np.linspace(0, 1, 5))     # [0.  0.25 0.5  0.75 1. ]"
   ]
  },
  {
   "cell_type": "markdown",
   "metadata": {},
   "source": [
    "## Propiedades de los Arrays "
   ]
  },
  {
   "cell_type": "code",
   "execution_count": null,
   "metadata": {},
   "outputs": [
    {
     "name": "stdout",
     "output_type": "stream",
     "text": [
      "(2, 3)\n",
      "6\n",
      "2\n",
      "int64\n",
      "8\n",
      "48\n"
     ]
    },
    {
     "data": {
      "text/plain": [
       "2"
      ]
     },
     "execution_count": 28,
     "metadata": {},
     "output_type": "execute_result"
    }
   ],
   "source": [
    "arr = np.array([[1, 2, 3], \n",
    "                [4, 5, 6]])\n",
    "\n",
    "print(arr.shape)   # (2, 3) → dimensión del array\n",
    "print(arr.size)    # 6 → número total de elementos\n",
    "print(arr.ndim)    # 2 → número de dimensiones\n",
    "print(arr.dtype)   # int64 → tipo de datos\n",
    "print(arr.itemsize) # 8 → tamaño en bytes de cada elemento\n",
    "print(arr.nbytes)   # 48 → tamaño total en bytes del array\n"
   ]
  },
  {
   "cell_type": "markdown",
   "metadata": {},
   "source": [
    "## Indexación y Slicing"
   ]
  },
  {
   "cell_type": "code",
   "execution_count": 29,
   "metadata": {},
   "outputs": [
    {
     "name": "stdout",
     "output_type": "stream",
     "text": [
      "20\n",
      "[20 30]\n",
      "[10 30]\n",
      "[40 30 20 10]\n"
     ]
    }
   ],
   "source": [
    "arr = np.array([10, 20, 30, 40])\n",
    "print(arr[1])   # 20\n",
    "print(arr[1:3]) # [20 30]\n",
    "print(arr[::2]) # [10 30]\n",
    "print(arr[::-1]) # [40 30 20 10]"
   ]
  },
  {
   "cell_type": "code",
   "execution_count": 30,
   "metadata": {},
   "outputs": [
    {
     "name": "stdout",
     "output_type": "stream",
     "text": [
      "2\n",
      "[2 5]\n",
      "[4 5 6]\n",
      "[2 3]\n"
     ]
    }
   ],
   "source": [
    "arr = np.array([[1, 2, 3], [4, 5, 6]])\n",
    "print(arr[0, 1])  # 2\n",
    "print(arr[:, 1])  # [2 5] → segunda columna\n",
    "print(arr[1, :])  # [4 5 6] → segunda fila\n",
    "print(arr[0, 1:]) # [2 3] → primera fila, desde la segunda columna en adelante"
   ]
  },
  {
   "cell_type": "markdown",
   "metadata": {},
   "source": [
    "## Operaciones Matemáticas\n",
    "### Operaciones básicas"
   ]
  },
  {
   "cell_type": "code",
   "execution_count": 31,
   "metadata": {},
   "outputs": [
    {
     "name": "stdout",
     "output_type": "stream",
     "text": [
      "[3 4 5 6]\n",
      "[ 3  6  9 12]\n",
      "[ 1  4  9 16]\n",
      "[1 2 0 1]\n"
     ]
    }
   ],
   "source": [
    "arr = np.array([1, 2, 3, 4])\n",
    "print(arr + 2)      # [3 4 5 6]\n",
    "print(arr * 3)      # [3 6 9 12]\n",
    "print(arr ** 2)     # [1 4 9 16]\n",
    "print(arr % 3)      # [1 2 0 1]"
   ]
  },
  {
   "cell_type": "markdown",
   "metadata": {},
   "source": [
    "### Producto punto"
   ]
  },
  {
   "cell_type": "code",
   "execution_count": 33,
   "metadata": {},
   "outputs": [
    {
     "name": "stdout",
     "output_type": "stream",
     "text": [
      "32\n"
     ]
    }
   ],
   "source": [
    "a = np.array([1, 2, 3])\n",
    "b = np.array([4, 5, 6])\n",
    "print(np.dot(a, b))  # 32 → (1*4 + 2*5 + 3*6)\n"
   ]
  },
  {
   "cell_type": "markdown",
   "metadata": {},
   "source": [
    "### operacion matriz por matriz"
   ]
  },
  {
   "cell_type": "code",
   "execution_count": 39,
   "metadata": {},
   "outputs": [
    {
     "name": "stdout",
     "output_type": "stream",
     "text": [
      "[[1549 1944 1937 ... 1845 1632 1728]\n",
      " [1845 2280 2114 ... 1933 1571 1994]\n",
      " [1540 1923 1833 ... 1844 1699 1740]\n",
      " ...\n",
      " [1823 2262 2047 ... 2080 1834 1848]\n",
      " [1778 2105 1901 ... 1944 1712 1797]\n",
      " [2037 2282 2086 ... 2163 1783 2156]]\n"
     ]
    }
   ],
   "source": [
    "a = np.array([[1, 2], [3, 4]])\n",
    "b = np.array([[5, 6], [7, 8]])\n",
    "a = np.random.randint(0, 10, (100, 100))\n",
    "b = np.random.randint(0, 10, (100, 100))\n",
    "print(a @ b)  # [[19 22] [43 50]] → producto matricial a*b fila por columna\n"
   ]
  },
  {
   "cell_type": "markdown",
   "metadata": {},
   "source": [
    "### mas operaciones\n",
    "| Tipo | Operación | Descripción |\n",
    "|:---------|:-----|:-----|\n",
    "| Unario | *abs* | Valor absoluto de cada elemento |\n",
    "| | *sqrt* | Raíz cuadrada de cada elemento |\n",
    "| | *exp* | e^x, siendo x cad elemento |\n",
    "| | *log, log10, log2* | Logaritmos en distintas bases de cada elemento |\n",
    "| | *sign* | Retorna el signo de cada elemento (-1 para negativo, 0 o 1 para positivo) |\n",
    "| | *ceil* | Redondea cada elemento por arriba |\n",
    "| | *floor* | Redondea cada elemento por abajo |\n",
    "| | *isnan* | Retorna si cada elemento es Nan |\n",
    "| | *cos, sin, tan* | Operaciones trigonométricas en cada elemento |\n",
    "| | *arccos, arcsin, arctan* | Inversas de operaciones trigonométricas en cada elemento |\n",
    "| Binario | *add* | Suma de dos arrays |\n",
    "| | *substract* | Resta de dos arrays |\n",
    "| | *multiply* | Multiplicación de dos arrays |\n",
    "| | *divide* | División de dos arrays |\n",
    "| | *maximum, minimum* | Retorna el valor máximo/mínimo de cada pareja de elementos |\n",
    "| | *equal, not_equal* | Retorna la comparación (igual o no igual) de cada pareja de elementos |\n",
    "| | *greater, greater_equal, less, less_equal* | Retorna la comparación (>, >=, <, <= respectivamente) de cada pareja de elementos |"
   ]
  },
  {
   "cell_type": "markdown",
   "metadata": {},
   "source": [
    "### Estadistica\n",
    "\n"
   ]
  },
  {
   "cell_type": "code",
   "execution_count": null,
   "metadata": {},
   "outputs": [
    {
     "name": "stdout",
     "output_type": "stream",
     "text": [
      "2.5\n",
      "1.118033988749895\n",
      "10\n",
      "1\n",
      "4\n"
     ]
    }
   ],
   "source": [
    "arr = np.array([1, 2, 3, 4])\n",
    "print(arr.mean())   # 2.5 → media\n",
    "print(arr.std())    # 1.118033988749895 → desviación estándar\n",
    "print(arr.sum())    # 10 → suma\n",
    "print(arr.min())    # 1 → mínimo\n",
    "print(arr.max())    # 4 → máximo\n"
   ]
  },
  {
   "cell_type": "markdown",
   "metadata": {},
   "source": [
    "## Funciones Útiles de NumPy\n",
    "- `np.exp` → exponencial\n",
    "- `np.log` → logaritmo natural\n",
    "- `np.sin`, `np.cos`, `np.tan` → funciones trigonométricas\n",
    "- `np.arcsin`, `np.arccos`, `np.arctan` → funciones trigonométricas inversas\n",
    "- `np.sinh`, `np.cosh`, `np.tanh` → funciones hiperbólicas\n",
    "- `np.arcsinh`, `np.arccosh`, `np.arctanh` → funciones hiperbólicas inversas\n",
    "- `np.sqrt` → raiz"
   ]
  },
  {
   "cell_type": "code",
   "execution_count": 38,
   "metadata": {},
   "outputs": [
    {
     "name": "stdout",
     "output_type": "stream",
     "text": [
      "[1 2 3 4]\n",
      "[0 1 2 3]\n",
      "3\n",
      "0\n",
      "(array([2, 3]),)\n",
      "[1 2 3 4]\n",
      "[0 1 1 1 1]\n",
      "[[1 2]\n",
      " [3 4]\n",
      " [5 6]\n",
      " [7 8]]\n",
      "[[1 2]\n",
      " [3 4]\n",
      " [5 6]\n",
      " [7 8]]\n",
      "[[1 2 5 6]\n",
      " [3 4 7 8]]\n"
     ]
    }
   ],
   "source": [
    "arr = np.array([1, 2, 3, 4])\n",
    "a = np.array([[1, 2], [3, 4]])\n",
    "b = np.array([[5, 6], [7, 8]])\n",
    "print(np.sort(arr))          # ordena el array [1 2 3 4]\n",
    "print(np.argsort(arr))       # [0 1 2 3] → índices que ordenan el array\n",
    "print(np.argmax(arr))        # 3 → índice del valor máximo\n",
    "print(np.argmin(arr))        # 0 → índice del valor mínimo\n",
    "print(np.where(arr > 2))     # (array([2, 3]),) → posiciones donde se cumple la condición\n",
    "print(np.unique(arr))        # [1 2 3 4] → valores únicos\n",
    "print(np.bincount(arr))      # [0 1 1 1 1] → cuenta de ocurrencias de cada valor\n",
    "print(np.concatenate((a, b))) # [[1 2] [3 4] [5 6] [7 8]] → concatenación de arrays\n",
    "print(np.vstack((a, b)))      # [[1 2] [3 4] [5 6] [7 8]] → apilado vertical\n",
    "print(np.hstack((a, b)))      # [1 2 3 4 5 6 7 8] → apilado horizontal\n",
    "\n"
   ]
  },
  {
   "cell_type": "markdown",
   "metadata": {},
   "source": [
    "## Cosas varias mas\n",
    "### Operadores unarios y binarios\n",
    "\n",
    "| Tipo | Operación | Descripción |\n",
    "|:---------|:-----|:-----|\n",
    "| Unario | *abs* | Valor absoluto de cada elemento |\n",
    "| | *sqrt* | Raíz cuadrada de cada elemento |\n",
    "| | *exp* | e^x, siendo x cad elemento |\n",
    "| | *log, log10, log2* | Logaritmos en distintas bases de cada elemento |\n",
    "| | *sign* | Retorna el signo de cada elemento (-1 para negativo, 0 o 1 para positivo) |\n",
    "| | *ceil* | Redondea cada elemento por arriba |\n",
    "| | *floor* | Redondea cada elemento por abajo |\n",
    "| | *isnan* | Retorna si cada elemento es Nan |\n",
    "| | *cos, sin, tan* | Operaciones trigonométricas en cada elemento |\n",
    "| | *arccos, arcsin, arctan* | Inversas de operaciones trigonométricas en cada elemento |\n",
    "| Binario | *add* | Suma de dos arrays |\n",
    "| | *substract* | Resta de dos arrays |\n",
    "| | *multiply* | Multiplicación de dos arrays |\n",
    "| | *divide* | División de dos arrays |\n",
    "| | *maximum, minimum* | Retorna el valor máximo/mínimo de cada pareja de elementos |\n",
    "| | *equal, not_equal* | Retorna la comparación (igual o no igual) de cada pareja de elementos |\n",
    "| | *greater, greater_equal, less, less_equal* | Retorna la comparación (>, >=, <, <= respectivamente) de cada pareja de elementos |\n",
    "\n",
    "### Estadística descriptiva\n",
    "- Importante saber la naturaleza de los datos\n",
    "- Valores máximos, mínimos, distribución, etc.\n",
    "\n",
    "| Función | Descripción |\n",
    "|:---------|:-----|\n",
    "| *sum(arr)* | Suma de todos los elementos de *arr* |\n",
    "| *mean(arr)* | Media aritmética de los elementos de *arr* |\n",
    "| *std(arr)* | Desviación estándar de los elementos de *arr* |\n",
    "| *cumsum(arr)* | Devuelve array con la suma acumulada de cada elementos con todos los anteriores |\n",
    "| *cumprod(arr)* | Devuelve array con el producto acumulado de cada elementos con todos los anteriores |\n",
    "| *min(arr), max(arr)* | Mínimo y máximo de *arr* |\n",
    "| *any(arr)* | En array de tipo *bool*, retorna *True* si algún elemento es *True* |\n",
    "| *all(arr)* | En array de tipo *bool*, retorna *True* si todos los elementos son *True* (o >0 en valores numéricos) |\n",
    "| *unique(arr)* | Devuelve un array con valores únicos |\n",
    "| *in1d(arr1, arr2)* | Devuelve un array con bool indicando si cada elemento de *arr1* está en *arr2* |\n",
    "| *union1d(arr1, arr2)* | Devuelve la unión de ambos arrays |\n",
    "| *intersect1d(arr1, arr2)* | Devuelve la intersección de ambos arrays |\n",
    "\n",
    "### Álgebra lineal\n",
    "- numpy.linalg contiene funciones para álgebra lineal\n",
    "- dot product, multipliacción de matrices, cálculo del determinante, factorizaciones...\n",
    "\n",
    "| Función | Descripción |\n",
    "|:---------|:-----|\n",
    "| *dot(mat1, mat2)* | Devuelve el producto escalar entre dos arrays. Si son matrices 2D, es equivalente a la multiplicación de ambas |\n",
    "| *matmul(mat1, mat2)* | Devuelve el producto entre dos matrices |\n",
    "| *trace(mat1, mat2)* | Suma de las diagonales de ambas matrices |\n",
    "| *det(mat)* | Devuelve el determinante de la matriz |\n",
    "| *eig(mat)* | Computa los autovalores y autovectores de la matriz cuadrada *mat* |\n",
    "| *inv(mat)* | Devuelve la inversa de la matriz |\n",
    "| *qr(mat)* | Computa la factorización QR de *mat* |\n",
    "| *solve(A, b)* | Resuelve el sistema lineal de ecuaciones *Ax = b* para *b*, cuando *A* es una matriz cuadrada |"
   ]
  }
 ],
 "metadata": {
  "kernelspec": {
   "display_name": ".clases-env",
   "language": "python",
   "name": "python3"
  },
  "language_info": {
   "codemirror_mode": {
    "name": "ipython",
    "version": 3
   },
   "file_extension": ".py",
   "mimetype": "text/x-python",
   "name": "python",
   "nbconvert_exporter": "python",
   "pygments_lexer": "ipython3",
   "version": "3.10.0"
  }
 },
 "nbformat": 4,
 "nbformat_minor": 2
}
