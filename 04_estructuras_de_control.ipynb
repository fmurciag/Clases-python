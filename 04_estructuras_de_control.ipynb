{
 "cells": [
  {
   "cell_type": "markdown",
   "id": "59b9b012",
   "metadata": {},
   "source": [
    "# Estructuras de Control en\n",
    "\n",
    "Las **estructuras de control** en permiten modificar el flujo de ejecución de un programa, facilitando la toma de decisiones y la repetición de tareas. Se dividen en tres categorías principales:\n",
    "\n",
    "- **Estructuras Condicionales**: Permiten ejecutar bloques de código dependiendo de condiciones.\n",
    "- **Estructuras de Repetición (Bucles)**: Permiten repetir un bloque de código mientras se cumpla una condición o sobre una secuencia de elementos.\n",
    "- **Estructuras de Control de Flujo**: Modifican el comportamiento dentro de los bucles.\n",
    "\n",
    "---\n",
    "\n",
    "## 1 Estructuras Condicionales\n",
    "\n",
    "Las estructuras condicionales permiten ejecutar diferentes bloques de código según una condición lógica.\n",
    "En pseudocodigo era la sentencia `Si`\n",
    "\n",
    "### Sentencias `if`, `elif`, `else`\n",
    "Permiten evaluar condiciones y ejecutar código en función de si la condición es `True` o `False`.\n",
    "\n",
    "```python\n",
    "if x > 0:\n",
    "    print(\"El número es positivo\")\n",
    "elif x == 0:\n",
    "    print(\"El número es cero\")\n",
    "else:\n",
    "    print(\"El número es negativo\")\n",
    "```\n",
    "Explicación:\n",
    "\n",
    "- Si x > 0, se ejecuta el primer print().\n",
    "- Si x == 0, se ejecuta el segundo print().\n",
    "- Si ninguna condición anterior se cumple, el bloque else se ejecuta.\n",
    "- Destacar que se evaluan en orden descedente \n",
    "- puede exixtir un `if` solo, osea sin `elif` o sin `else`"
   ]
  },
  {
   "cell_type": "code",
   "execution_count": 1,
   "id": "2de2760a",
   "metadata": {},
   "outputs": [
    {
     "name": "stdout",
     "output_type": "stream",
     "text": [
      "Eres un adulto\n"
     ]
    }
   ],
   "source": [
    "edad = 20\n",
    "\n",
    "if edad < 18:\n",
    "    print(\"Eres menor de edad\")\n",
    "elif 18 <= edad < 65:\n",
    "    print(\"Eres un adulto\")\n",
    "else:\n",
    "    print(\"Eres una persona mayor\")"
   ]
  },
  {
   "cell_type": "markdown",
   "id": "cf57f0b8",
   "metadata": {},
   "source": [
    "## 2 Estructuras de Repetición (Bucles)\n",
    "Los bucles permiten ejecutar un bloque de código varias veces mientras se cumpla una condición.\n",
    "\n",
    "### Bucle while\n",
    "El bucle `while` ejecuta un bloque de código mientras una condición sea True.\n",
    "```python"
   ]
  },
  {
   "cell_type": "code",
   "execution_count": 2,
   "id": "2e4c335f",
   "metadata": {},
   "outputs": [
    {
     "name": "stdout",
     "output_type": "stream",
     "text": [
      "Contador: 0\n",
      "Contador: 1\n",
      "Contador: 2\n",
      "Contador: 3\n",
      "Contador: 4\n"
     ]
    }
   ],
   "source": [
    "contador = 0\n",
    "while contador < 5:\n",
    "    print(\"Contador:\", contador)\n",
    "    contador += 1"
   ]
  },
  {
   "cell_type": "markdown",
   "id": "e4193818",
   "metadata": {},
   "source": [
    "Explicación:\n",
    "\n",
    "- La variable contador comienza en 0.\n",
    "- Mientras contador < 5, se ejecuta el print().\n",
    "- Se incrementa contador en cada iteración para evitar un bucle infinito."
   ]
  },
  {
   "cell_type": "markdown",
   "id": "9847ffe9",
   "metadata": {},
   "source": [
    "## Bucle for\n",
    "El bucle `for` se usa para iterar sobre secuencias como listas, tuplas, cadenas de texto y rangos."
   ]
  },
  {
   "cell_type": "markdown",
   "id": "3497b669",
   "metadata": {},
   "source": [
    "#### For con rangos"
   ]
  },
  {
   "cell_type": "code",
   "execution_count": 3,
   "id": "6656ffcc",
   "metadata": {},
   "outputs": [
    {
     "name": "stdout",
     "output_type": "stream",
     "text": [
      "Iteración: 0\n",
      "Iteración: 1\n",
      "Iteración: 2\n",
      "Iteración: 3\n",
      "Iteración: 4\n"
     ]
    }
   ],
   "source": [
    "for i in range(5):  # Itera desde 0 hasta 4\n",
    "    print(\"Iteración:\", i)"
   ]
  },
  {
   "cell_type": "code",
   "execution_count": 4,
   "id": "2abd7623",
   "metadata": {},
   "outputs": [
    {
     "name": "stdout",
     "output_type": "stream",
     "text": [
      "1\n",
      "3\n",
      "5\n",
      "7\n",
      "9\n",
      "11\n"
     ]
    }
   ],
   "source": [
    "for num in range(1, 12, 2):  # Empieza en 1, llega hasta 11, de 2 en 2\n",
    "    print(num)\n"
   ]
  },
  {
   "cell_type": "markdown",
   "id": "4181dd52",
   "metadata": {},
   "source": [
    "Explicación:\n",
    "- range(5) genera los números 0, 1, 2, 3, 4.\n",
    "    - range(1,11) numeros del 1-10\n",
    "    - range(inicio,fin-1,pasos)\n",
    "- En cada iteración, i toma un valor diferente de ese rango."
   ]
  },
  {
   "cell_type": "markdown",
   "id": "28718db3",
   "metadata": {},
   "source": [
    "#### For con listas"
   ]
  },
  {
   "cell_type": "code",
   "execution_count": 5,
   "id": "66e6e057",
   "metadata": {},
   "outputs": [
    {
     "name": "stdout",
     "output_type": "stream",
     "text": [
      "Me gusta la manzana\n",
      "Me gusta la banana\n",
      "Me gusta la cereza\n"
     ]
    }
   ],
   "source": [
    "frutas = [\"manzana\", \"banana\", \"cereza\"]\n",
    "\n",
    "for fruta in frutas:\n",
    "    print(\"Me gusta la\", fruta)\n"
   ]
  },
  {
   "cell_type": "markdown",
   "id": "a7278a4d",
   "metadata": {},
   "source": [
    "#### For con cadenas de texto\n"
   ]
  },
  {
   "cell_type": "code",
   "execution_count": 6,
   "id": "67209336",
   "metadata": {},
   "outputs": [
    {
     "name": "stdout",
     "output_type": "stream",
     "text": [
      "P\n",
      "y\n",
      "t\n",
      "h\n",
      "o\n",
      "n\n"
     ]
    }
   ],
   "source": [
    "palabra = \"Python\"\n",
    "for letra in palabra:\n",
    "    print(letra)"
   ]
  },
  {
   "cell_type": "markdown",
   "id": "78671877",
   "metadata": {},
   "source": [
    "### Estructuras de Control de Flujo\n",
    "Son sentencias especiales que modifican el comportamiento dentro de los bucles.\n",
    "- `break`: interrumpe el bucle\n",
    "- `continue`: alta a la siguiente iteración"
   ]
  },
  {
   "cell_type": "code",
   "execution_count": 7,
   "id": "790ce9b8",
   "metadata": {},
   "outputs": [
    {
     "name": "stdout",
     "output_type": "stream",
     "text": [
      "0\n",
      "1\n",
      "2\n",
      "3\n",
      "4\n"
     ]
    }
   ],
   "source": [
    "for i in range(10):\n",
    "    if i == 5:\n",
    "        break  # Sale del bucle cuando i es 5\n",
    "    print(i)\n"
   ]
  },
  {
   "cell_type": "code",
   "execution_count": 8,
   "id": "e47c3a9a",
   "metadata": {},
   "outputs": [
    {
     "name": "stdout",
     "output_type": "stream",
     "text": [
      "0\n",
      "1\n",
      "3\n",
      "4\n"
     ]
    }
   ],
   "source": [
    "for i in range(5):\n",
    "    if i == 2:\n",
    "        continue  # Salta la iteración cuando i es 2\n",
    "    print(i)\n"
   ]
  }
 ],
 "metadata": {
  "kernelspec": {
   "display_name": "Python 3.11.9 64-bit (microsoft store)",
   "language": "python",
   "name": "python3"
  },
  "language_info": {
   "codemirror_mode": {
    "name": "ipython",
    "version": 3
   },
   "file_extension": ".py",
   "mimetype": "text/x-python",
   "name": "python",
   "nbconvert_exporter": "python",
   "pygments_lexer": "ipython3",
   "version": "3.11.9"
  },
  "vscode": {
   "interpreter": {
    "hash": "c6d24f28c59bb49c441dc51ffa980db1c7efe4954db3820543d532bf279ddef3"
   }
  }
 },
 "nbformat": 4,
 "nbformat_minor": 5
}
