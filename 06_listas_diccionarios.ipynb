{
 "cells": [
  {
   "cell_type": "markdown",
   "id": "21ce4350",
   "metadata": {},
   "source": [
    "# Listas, tuplas y diccionarios\n",
    "## Listas\n",
    "Las listas son estructuras de datos que pueden almacenar cualquier otro tipo de dato, inclusive una lista puede contener otra lista, además, la cantidad de elementos de una lista se puede modificar removiendo o añadiendo elementos. \n",
    "\n",
    "Para definir una lista se utilizan los corchetes, dentro de estos se colocan todos los elementos separados por comas"
   ]
  },
  {
   "cell_type": "code",
   "execution_count": 2,
   "id": "a89b8b57",
   "metadata": {},
   "outputs": [
    {
     "name": "stdout",
     "output_type": "stream",
     "text": [
      "[10, 9, 8, 7.5, 9] ['Ana', 'Juan', 'Sofía', 'Pablo', 'Tania'] [True, 10.5, 'abc', [0, 1, 1]]\n"
     ]
    }
   ],
   "source": [
    "calificaciones = [10,9,8,7.5,9]\n",
    "nombres = [\"Ana\",\"Juan\",\"Sofía\",\"Pablo\",\"Tania\"]\n",
    "mezcla = [True, 10.5, \"abc\", [0,1,1]]\n",
    "print(calificaciones,nombres,mezcla)"
   ]
  },
  {
   "cell_type": "markdown",
   "id": "63f9ca55",
   "metadata": {},
   "source": [
    "Las listas son iterables y por tanto se puede acceder a sus elementos mediante indexación:\n",
    "| Índice  | 0    | 1    | 2    | 3    | 4    |\n",
    "|---------|------|------|------|------|------|\n",
    "| Elemento | Ana    | Juan    | Sofía    | Pablo    | Tania    |\n"
   ]
  },
  {
   "cell_type": "code",
   "execution_count": 3,
   "id": "db89fbb5",
   "metadata": {},
   "outputs": [
    {
     "name": "stdout",
     "output_type": "stream",
     "text": [
      "Sofía\n",
      "Pablo\n"
     ]
    }
   ],
   "source": [
    "print(nombres[2])\n",
    "print(nombres[-2]) #valores negativos comienzan desde atras"
   ]
  },
  {
   "cell_type": "markdown",
   "id": "4b455c31",
   "metadata": {},
   "source": [
    "Se tiene la posibilidad de agregar elementos a una lista mediante el método `append`"
   ]
  },
  {
   "cell_type": "code",
   "execution_count": 15,
   "id": "f6f2e0f3",
   "metadata": {},
   "outputs": [
    {
     "name": "stdout",
     "output_type": "stream",
     "text": [
      "['Ana', 'Juan', 'Sofía', 'Pablo', 'Tania', 'Antonio', 'Ximena']\n"
     ]
    }
   ],
   "source": [
    "nombres.append(\"Antonio\")\n",
    "nombres.append(\"Ximena\")\n",
    "print(nombres)"
   ]
  },
  {
   "cell_type": "markdown",
   "id": "34990864",
   "metadata": {},
   "source": [
    "El método `remove` elimina un elemento de una lista por el valor o `pop` por indice:"
   ]
  },
  {
   "cell_type": "code",
   "execution_count": 16,
   "id": "5b0b4fca",
   "metadata": {},
   "outputs": [
    {
     "name": "stdout",
     "output_type": "stream",
     "text": [
      "['Ana', 'Juan', 'Sofía', 'Pablo', 'Tania', 'Ximena']\n",
      "['Ana', 'Juan', 'Sofía', 'Pablo', 'Tania']\n"
     ]
    }
   ],
   "source": [
    "nombres.remove(\"Antonio\")\n",
    "print(nombres)\n",
    "nombres.pop(-1)\n",
    "print(nombres)"
   ]
  },
  {
   "cell_type": "markdown",
   "id": "20cd2b30",
   "metadata": {},
   "source": [
    "### Recorrer una lista con un bucle for\n",
    "Podemos recorrer una lista facil con un bucle for ya que este automaticamente iterara por cada valor de la lista"
   ]
  },
  {
   "cell_type": "code",
   "execution_count": 15,
   "id": "14df5cf0",
   "metadata": {},
   "outputs": [
    {
     "name": "stdout",
     "output_type": "stream",
     "text": [
      "manzana\n",
      "pera\n",
      "naranja\n",
      "uva\n",
      "sandía\n",
      "kiwi\n",
      "Esta fruta tiene 'a': manzana\n",
      "Esta fruta tiene 'a': pera\n",
      "Esta fruta tiene 'a': naranja\n",
      "Esta fruta tiene 'a': uva\n",
      "Esta fruta tiene 'a': sandía\n",
      "['pera', 'naranja']\n",
      "1 2 3 4 5 6 7 8 9 "
     ]
    },
    {
     "data": {
      "text/plain": [
       "5"
      ]
     },
     "execution_count": 15,
     "metadata": {},
     "output_type": "execute_result"
    }
   ],
   "source": [
    "frutas = [\"manzana\", \"pera\", \"naranja\", \"uva\",\"sandía\",\"kiwi\"]\n",
    "for fruta in frutas:\n",
    "    print(fruta)\n",
    "\n",
    "for fruta in frutas:\n",
    "    if \"a\" in fruta:\n",
    "        print(f\"Esta fruta tiene 'a': {fruta}\")\n",
    "\"manzana\" in frutas\n",
    "\n",
    "print(frutas[1:3])#slicing\n",
    "\n",
    "#matrices\n",
    "matriz = [[1,2,3],[4,5,6],[7,8,9]]\n",
    "for fila in matriz:\n",
    "    for elemento in fila:\n",
    "        print(elemento, end=\" \")\n",
    "matriz[1][1]\n",
    "    \n",
    "\n"
   ]
  },
  {
   "cell_type": "markdown",
   "id": "9f492da0",
   "metadata": {},
   "source": [
    "Las operaciones más habituales que se realizan en Python son las siguientes:\n",
    "\n",
    "- `lista[i]`: Devuelve el elemento que está en la posición i de la lista.\n",
    "- `lista.pop(i)`: Devuelve el elemento en la posición i de una lista y luego lo borra.\n",
    "- `lista.append(elemento):` Añade elemento al final de la lista.\n",
    "- `lista.insert(i, elemento)`: Inserta elemento en la posición i.\n",
    "- `lista.extend(lista2)`: Fusiona lista con lista2.\n",
    "- `lista.remove(elemento)`: Elimina la primera vez que aparece elemento.\n",
    "- `lista.copy()`: Crea una copia identica de la lista\n",
    "- `lista.deepcopy()`: Crea una copia identica de la lista\n",
    "\n",
    "Si representamos todo esto en un ejemplo:"
   ]
  },
  {
   "cell_type": "code",
   "execution_count": 19,
   "id": "21f0cca7",
   "metadata": {},
   "outputs": [
    {
     "name": "stdout",
     "output_type": "stream",
     "text": [
      "Kimi Raikkonen\n",
      "['Fernando Alonso']\n",
      "['Fernando Alonso', 'Kimi Raikkonen']\n",
      "['Fernando Alonso', 'Kimi Raikkonen']\n",
      "['Fernando Alonso', 'Kimi Raikkonen', 'Fernando Alonso', 'Felipe Massa']\n",
      "['Kimi Raikkonen', 'Fernando Alonso', 'Felipe Massa']\n"
     ]
    }
   ],
   "source": [
    "Ferrari2014=[\"Fernando Alonso\", \"Kimi Raikkonen\"]\n",
    "Ferrari2013=[\"Fernando Alonso\", \"Felipe Massa\"]\n",
    "# Acceder a un elemento de la lista.\n",
    "print(Ferrari2014[1])\n",
    "\n",
    "# pop: Extraemos a Kimi (que está en la posición número 1) de la lista. Alonso está en la posición 0.\n",
    "Ferrari2014.pop(1)\n",
    "print(Ferrari2014)\n",
    "\n",
    "# append: Añadimos a Kimi al final de la lista\n",
    "Ferrari2014.append(\"Kimi Raikkonen\")\n",
    "print (Ferrari2014)\n",
    "\n",
    "# del:Eliminamos el elemento de la primera posición de la lista (Fernando)\n",
    "del(Ferrari2014[0])\n",
    "# insert: Añadimos a Fernando en la primera posición\n",
    "Ferrari2014.insert(0, \"Fernando Alonso\")\n",
    "print (Ferrari2014)\n",
    "\n",
    "# extend: Juntamos los pilotos del 2013 y los del 2014. Fernando estará repetido.\n",
    "Ferrari2014.extend(Ferrari2013)\n",
    "print (Ferrari2014)\n",
    "\n",
    "#remove: Borramos la primera vez que aparece Fernando Alonso\n",
    "Ferrari2014.remove(\"Fernando Alonso\")\n",
    "print (Ferrari2014)\n"
   ]
  },
  {
   "cell_type": "markdown",
   "id": "0f3a61fb",
   "metadata": {},
   "source": [
    "## Tuplas\n",
    "Las tuplas son secuencias de elementos similares a las listas, la diferencia principal es que las tuplas no pueden ser modificadas directamente, es decir, una tupla no dispone de los métodos como `append` o `insert` que modifican los elementos de una lista.\n",
    "\n",
    "Para definir una tupla, los elementos se separan con comas y se encierran entre paréntesis.\n",
    "\n",
    "Las tuplas al ser iterables pueden accederse mediante la notación de corchetes e índice."
   ]
  },
  {
   "cell_type": "code",
   "execution_count": 21,
   "id": "12d59db4",
   "metadata": {},
   "outputs": [
    {
     "name": "stdout",
     "output_type": "stream",
     "text": [
      "Azul\n",
      "Gris\n"
     ]
    },
    {
     "ename": "TypeError",
     "evalue": "'tuple' object does not support item assignment",
     "output_type": "error",
     "traceback": [
      "\u001b[1;31m---------------------------------------------------------------------------\u001b[0m",
      "\u001b[1;31mTypeError\u001b[0m                                 Traceback (most recent call last)",
      "Cell \u001b[1;32mIn[21], line 4\u001b[0m\n\u001b[0;32m      2\u001b[0m \u001b[39mprint\u001b[39m(colores[\u001b[39m0\u001b[39m])\n\u001b[0;32m      3\u001b[0m \u001b[39mprint\u001b[39m(colores[\u001b[39m-\u001b[39m\u001b[39m1\u001b[39m])\n\u001b[1;32m----> 4\u001b[0m colores[\u001b[39m0\u001b[39;49m] \u001b[39m=\u001b[39m \u001b[39m\"\u001b[39m\u001b[39mCafé\u001b[39m\u001b[39m\"\u001b[39m \u001b[39m#Si intentamos modificar alguno de los elementos de la tupla Python nos devolverá un TypeError:\u001b[39;00m\n",
      "\u001b[1;31mTypeError\u001b[0m: 'tuple' object does not support item assignment"
     ]
    }
   ],
   "source": [
    "colores=(\"Azul\",\"Verde\",\"Rojo\",\"Amarillo\",\"Blanco\",\"Negro\",\"Gris\")\n",
    "print(colores[0])\n",
    "print(colores[-1])\n",
    "colores[0] = \"Café\" #Si intentamos modificar alguno de los elementos de la tupla Python nos devolverá un TypeError:"
   ]
  },
  {
   "cell_type": "markdown",
   "id": "d4c85358",
   "metadata": {},
   "source": [
    "## Diccionarios\n",
    "Los diccionarios son estructuras que contienen una colección de elementos de la forma `clave: valor` separados por comas y encerrados entre {llaves}. Las claves deben ser objetos inmutables y los valores pueden ser de cualquier tipo. Necesariamente las claves deben ser únicas en cada diccionario."
   ]
  },
  {
   "cell_type": "code",
   "execution_count": 17,
   "id": "bd4bc806",
   "metadata": {},
   "outputs": [
    {
     "name": "stdout",
     "output_type": "stream",
     "text": [
      "{'nombre': 'Juan', 'edad': 25, 'ciudades': {'Madrid': 4, 'barcelona': 4}}\n"
     ]
    }
   ],
   "source": [
    "persona = {\n",
    "    \"nombre\": \"Juan\",\n",
    "    \"edad\": 25,\n",
    "    \"ciudades\": {\"Madrid\":4,\"barcelona\":4}\n",
    "}\n",
    "print(persona)\n"
   ]
  },
  {
   "cell_type": "markdown",
   "id": "558fc4f9",
   "metadata": {},
   "source": [
    "Podemos acceder a cada valor y modificarlos"
   ]
  },
  {
   "cell_type": "code",
   "execution_count": 18,
   "id": "d957601b",
   "metadata": {},
   "outputs": [
    {
     "name": "stdout",
     "output_type": "stream",
     "text": [
      "Juan\n",
      "{'nombre': 'Juan', 'edad': 26, 'ciudades': {'Madrid': 4, 'barcelona': 4}}\n"
     ]
    }
   ],
   "source": [
    "print(persona[\"nombre\"])  # Juan\n",
    "persona[\"edad\"] = 26 # Ahora la edad es 26\n",
    "print(persona)  \n"
   ]
  },
  {
   "cell_type": "markdown",
   "id": "8284d781",
   "metadata": {},
   "source": [
    "Es similar a las listas, con el matiz de que dado que los diccionarios no tienen orden, no tienen funciones en las que se tenga en cuenta la posición.\n",
    "- `diccionario.get(‘key’)`: Devuelve el valor que corresponde con la key introducida.\n",
    "- `diccionario.pop(‘key’)`: Devuelve el valor que corresponde con la key introducida, y luego borra la key y el valor.\n",
    "- `diccionario.update({‘key’:’valor’})`: Inserta una determinada key o actualiza su valor si ya existiera.\n",
    "- `«key» in diccionario`: Devuelve verdadero (True) o falso (False) si la key (no los valores) existe en el diccionario.\n",
    "- `«definicion» in diccionario.values()`: Devuelve verdadero (True) o falso (False) si definición existe en el diccionario (no como key)."
   ]
  },
  {
   "cell_type": "code",
   "execution_count": null,
   "id": "cf3264eb",
   "metadata": {},
   "outputs": [
    {
     "name": "stdout",
     "output_type": "stream",
     "text": [
      "Fernando Alonso\n",
      "Fernando Alonso\n",
      "{'Piloto 2': 'Kimi Raikkonen', 'Piloto 3': 'Felipe Massa'}\n",
      "{'Piloto 2': 'Sebastian Vettel', 'Piloto 3': 'Felipe Massa', 'Piloto 4': 'Lewis Hamilton'}\n",
      "False\n",
      "False\n",
      "False\n",
      "True\n",
      "{'Piloto 3': 'Felipe Massa', 'Piloto 4': 'Lewis Hamilton'}\n"
     ]
    }
   ],
   "source": [
    "diccionario = {'Piloto 1':'Fernando Alonso', 'Piloto 2':'Kimi Raikkonen', 'Piloto 3':'Felipe Massa'}\n",
    "# get(): Devuelve el valor que corresponde con la key introducida.\n",
    "print(diccionario.get('Piloto 1'))\n",
    "\n",
    "# pop(): Devuelve el valor que corresponde con la key introducida, y luego borra la key y el valor.\n",
    "print(diccionario.pop('Piloto 1'))\n",
    "print(diccionario)\n",
    "\n",
    "# update(): Actualiza el valor de una determinada key o lo crea si no existe.\n",
    "diccionario.update({'Piloto 4':'Lewis Hamilton'})\n",
    "diccionario.update({'Piloto 2':'Sebastian Vettel'})\n",
    "print(diccionario)\n",
    "\n",
    "# \"key\" in diccionario: devuelve verdadero (True) o falso (False) si la key existe en el diccionario.\n",
    "print (\"Piloto 1\" in diccionario)\n",
    "print (\"Sebastian Vettel\" in diccionario)\n",
    "\n",
    "# \"definición\" in diccionario.values(): devuelve verdadero (True) o falso (False) si la definición existe en el diccionario.\n",
    "print (\"Sebastian Vettel\" in diccionario.values())\n",
    "\n",
    "# del diccionario['key']: Elimina el valor (y el key) asociado a la key indicada.\n",
    "del diccionario['Piloto 2']\n",
    "print(diccionario)"
   ]
  },
  {
   "cell_type": "markdown",
   "id": "dd1bb705",
   "metadata": {},
   "source": [
    "Indicar que podemos tener listas de diccionarios que contengan diccionarios"
   ]
  },
  {
   "cell_type": "code",
   "execution_count": 19,
   "id": "8d22e38b",
   "metadata": {},
   "outputs": [
    {
     "name": "stdout",
     "output_type": "stream",
     "text": [
      "10.99\n"
     ]
    }
   ],
   "source": [
    "data = [\n",
    "    {\n",
    "        \"id\": 1,\n",
    "        \"nombre\": \"Producto A\",\n",
    "        \"detalles\": {\n",
    "            \"precio\": 10.99,\n",
    "            \"stock\": 50,\n",
    "            \"categoria\": \"Electrónica\"\n",
    "        }\n",
    "    },\n",
    "    {\n",
    "        \"id\": 2,\n",
    "        \"nombre\": \"Producto B\",\n",
    "        \"detalles\": {\n",
    "            \"precio\": 5.49,\n",
    "            \"stock\": 100,\n",
    "            \"categoria\": \"Hogar\"\n",
    "        }\n",
    "    },\n",
    "    {\n",
    "        \"id\": 3,\n",
    "        \"nombre\": \"Producto C\",\n",
    "        \"detalles\": {\n",
    "            \"precio\": 20.00,\n",
    "            \"stock\": 25,\n",
    "            \"categoria\": \"Deporte\"\n",
    "        }\n",
    "    }\n",
    "]\n",
    "print(data[0][\"detalles\"][\"precio\"])  \n"
   ]
  },
  {
   "cell_type": "markdown",
   "id": "e267af5b",
   "metadata": {},
   "source": [
    "### Recorrer un diccionario con un bucle for\n",
    "\n",
    "\n"
   ]
  },
  {
   "cell_type": "code",
   "execution_count": 32,
   "id": "e0ce4f48",
   "metadata": {},
   "outputs": [
    {
     "name": "stdout",
     "output_type": "stream",
     "text": [
      "nombre:\n",
      "edad:\n",
      "ciudad:\n",
      "profesión:\n",
      "{'ciudad': 'Alicante',\n",
      " 'edad': 30,\n",
      " 'nombre': 'Nuria',\n",
      " 'profesión': 'Desarrolladora'}\n"
     ]
    }
   ],
   "source": [
    "\n",
    "\n",
    "# Ejemplo de uso\n",
    "mi_diccionario = {\n",
    "    \"nombre\": \"Nuria\",\n",
    "    \"edad\": 30,\n",
    "    \"ciudad\": \"Alicante\",\n",
    "    \"profesión\": \"Desarrolladora\"\n",
    "}\n",
    "for clave in mi_diccionario :\n",
    "        print(f\"{clave}:\")\n",
    "\n",
    "\n",
    "\n"
   ]
  },
  {
   "cell_type": "markdown",
   "id": "a885dfc6",
   "metadata": {},
   "source": [
    "# imprimir bonito\n",
    "```python\n",
    "import pprint\n",
    "pprint.pprint(usuarios_ordenados)\n",
    "```"
   ]
  }
 ],
 "metadata": {
  "kernelspec": {
   "display_name": "Python 3",
   "language": "python",
   "name": "python3"
  },
  "language_info": {
   "codemirror_mode": {
    "name": "ipython",
    "version": 3
   },
   "file_extension": ".py",
   "mimetype": "text/x-python",
   "name": "python",
   "nbconvert_exporter": "python",
   "pygments_lexer": "ipython3",
   "version": "3.11.9"
  }
 },
 "nbformat": 4,
 "nbformat_minor": 5
}
