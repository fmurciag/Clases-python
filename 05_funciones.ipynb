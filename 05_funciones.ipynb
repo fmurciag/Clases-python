{
 "cells": [
  {
   "cell_type": "markdown",
   "id": "5b1f7f97",
   "metadata": {},
   "source": [
    "# ¿Qué es una función?\n",
    "Una función es un bloque de código reutilizable que realiza una tarea específica. En programación, su objetivo es dividir el código en partes más organizadas, haciendo que el programa sea más modular y fácil de mantener.\n",
    "\n",
    "Ventajas de usar funciones:\n",
    "- Evitan la repetición de código.\n",
    "- Hacen que el código sea más legible y mantenible.\n",
    "- Permiten estructurar mejor el programa.\n",
    "- Facilitan la depuración de errores.\n",
    "- Se pueden reutilizar en diferentes partes del código.\n",
    "\n",
    "Basicamente se usan para evitar el codigo spagueti\n",
    "\n",
    ">El código espagueti es un término acuñado para describir un tipo de código desordenado, difícil de seguir y que resulta ser un dolor de cabeza para los programadores."
   ]
  },
  {
   "cell_type": "code",
   "execution_count": 10,
   "id": "055d9d0f",
   "metadata": {},
   "outputs": [
    {
     "name": "stdout",
     "output_type": "stream",
     "text": [
      "152.0152\n"
     ]
    }
   ],
   "source": [
    "# Código espagueti para calcular el precio final con descuentos\n",
    "precio = 152.0\n",
    "descuento = 0.2\n",
    "impuesto = 0.21\n",
    "\n",
    "if precio > 100:\n",
    "    if descuento > 0:\n",
    "        if impuesto > 0:\n",
    "            resultado = (precio - (precio * (descuento / 100))) + (precio * (impuesto / 100))\n",
    "        else:\n",
    "            resultado = precio - (precio * (descuento / 100))\n",
    "    else:\n",
    "        if impuesto > 0:\n",
    "            resultado = precio + (precio * (impuesto / 100))\n",
    "        else:\n",
    "            resultado = precio\n",
    "else:\n",
    "    if descuento > 0:\n",
    "        resultado = precio - (precio * (descuento / 100))\n",
    "    else:\n",
    "        resultado = precio\n",
    "\n",
    "print(resultado)"
   ]
  },
  {
   "cell_type": "code",
   "execution_count": null,
   "id": "8760cb96",
   "metadata": {},
   "outputs": [
    {
     "name": "stdout",
     "output_type": "stream",
     "text": [
      "152.0145616\n"
     ]
    }
   ],
   "source": [
    "# Código estructurado para calcular el precio final con descuentos\n",
    "def aplicar_descuento(precio, descuento):\n",
    "    return precio - (precio * (descuento / 100)) if descuento > 0 else precio\n",
    "\n",
    "def aplicar_impuesto(precio, impuesto):\n",
    "    return precio + (precio * (impuesto / 100)) if impuesto > 0 else precio\n",
    "\n",
    "precio=152.0\n",
    "descuento=0.2\n",
    "impuesto=0.21\n",
    "precio_con_descuento = aplicar_descuento(precio, descuento)\n",
    "precio_final = aplicar_impuesto(precio_con_descuento, impuesto)\n",
    "print(precio_final)\n"
   ]
  },
  {
   "cell_type": "markdown",
   "id": "d5866ccf",
   "metadata": {},
   "source": [
    "# Definiendo una función en Python\n",
    "\n",
    "Para definir una función, usamos la palabra clave `def nombre_funcion():`\n",
    "\n",
    "Para llamar a la función, simplemente escribimos su nombre con paréntesis:"
   ]
  },
  {
   "cell_type": "code",
   "execution_count": 13,
   "id": "18618843",
   "metadata": {},
   "outputs": [
    {
     "name": "stdout",
     "output_type": "stream",
     "text": [
      "¡Hola, bienvenido a la clase de Python!\n"
     ]
    }
   ],
   "source": [
    "def saludar():\n",
    "    print(\"¡Hola, bienvenido a la clase de Python!\")\n",
    "\n",
    "saludar()"
   ]
  },
  {
   "cell_type": "markdown",
   "id": "fb9dfaba",
   "metadata": {},
   "source": [
    "## Funciones con parámetros\n",
    "Podemos hacer que una función sea más flexible pasándole parámetros un parametro es un valor que se le da auna funcion"
   ]
  },
  {
   "cell_type": "code",
   "execution_count": 17,
   "id": "4c4594b3",
   "metadata": {},
   "outputs": [
    {
     "name": "stdout",
     "output_type": "stream",
     "text": [
      "La suma de 5 y 3 es 8\n",
      "La suma de 5 y 3 es 8\n",
      "La suma de 5 y 3 es 8\n"
     ]
    }
   ],
   "source": [
    "def sumar(a, b):\n",
    "    resultado = a + b\n",
    "    print(f\"La suma de {a} y {b} es {resultado}\")\n",
    "\n",
    "sumar(5, 3)\n",
    "sumar(a=5,b=3)\n",
    "sumar(b=3,a=5)\n"
   ]
  },
  {
   "cell_type": "markdown",
   "id": "8a4e3db6",
   "metadata": {},
   "source": [
    "Podemos indicarles valor por defecto, sto es útil cuando queremos un comportamiento por defecto si el usuario no pasa argumentos."
   ]
  },
  {
   "cell_type": "code",
   "execution_count": 6,
   "id": "cef43e3a",
   "metadata": {},
   "outputs": [
    {
     "name": "stdout",
     "output_type": "stream",
     "text": [
      "¡Hola, Estudiante!\n",
      "¡hola, Ana!\n",
      "¡hola, Estudiante!actualizate\n"
     ]
    }
   ],
   "source": [
    "def saludar(saludo, nombre=\"Estudiante\", mensaje=\"\"):\n",
    "    print(f\"¡{saludo}, {nombre}!{mensaje}\")\n",
    "\n",
    "saludar(\"Hola\")      \n",
    "saludar(\"hola\",\"Ana\") \n",
    "saludar(\"hola\",mensaje=\"actualizate\")"
   ]
  },
  {
   "cell_type": "markdown",
   "id": "d725ecbc",
   "metadata": {},
   "source": [
    "## Funciones con valores de retorno\n",
    "A veces queremos que la función devuelva un resultado en lugar de solo imprimirlo. Para eso usamos `return`."
   ]
  },
  {
   "cell_type": "code",
   "execution_count": 7,
   "id": "2adb6d79",
   "metadata": {},
   "outputs": [
    {
     "name": "stdout",
     "output_type": "stream",
     "text": [
      "El resultado es 20\n"
     ]
    }
   ],
   "source": [
    "def multiplicar(a, b):\n",
    "    return a * b\n",
    "\n",
    "resultado = multiplicar(4, 5)\n",
    "print(f\"El resultado es {resultado}\")  \n"
   ]
  },
  {
   "cell_type": "code",
   "execution_count": null,
   "id": "eee102e1",
   "metadata": {},
   "outputs": [
    {
     "name": "stdout",
     "output_type": "stream",
     "text": [
      "Valor 1: Hola\n",
      "Valor 2: 42\n"
     ]
    },
    {
     "data": {
      "text/plain": [
       "('Hola', 42)"
      ]
     },
     "execution_count": 8,
     "metadata": {},
     "output_type": "execute_result"
    }
   ],
   "source": [
    "def obtener_dos_valores():\n",
    "    valor1 = \"Hola\"\n",
    "    valor2 = 42\n",
    "    return valor1, valor2 \n",
    "\n",
    "v1, v2 = obtener_dos_valores()\n",
    "\n",
    "print(f\"Valor 1: {v1}\")\n",
    "print(f\"Valor 2: {v2}\")\n",
    "obtener_dos_valores()"
   ]
  },
  {
   "cell_type": "markdown",
   "id": "fc80de84",
   "metadata": {},
   "source": [
    "## Funciones avanzadas\n",
    "### Type Hints (Tipado Estático Opcional)\n",
    "podemos usar anotaciones de tipo en los parámetros y en el valor de retorno de una función:"
   ]
  },
  {
   "cell_type": "code",
   "execution_count": null,
   "id": "b0a6c860",
   "metadata": {},
   "outputs": [
    {
     "name": "stdout",
     "output_type": "stream",
     "text": [
      "6\n"
     ]
    }
   ],
   "source": [
    "def sumar(a: int, b: int) -> int:\n",
    "    return a + b\n",
    "\n",
    "resultado = sumar(3, 3)\n",
    "print(resultado)"
   ]
  },
  {
   "cell_type": "markdown",
   "id": "45261a9c",
   "metadata": {},
   "source": [
    "### Parámetros Modificables o No Modificables\n",
    "En Python, los tipos de datos se dividen en mutables e inmutables. Esto afecta a cómo los parámetros se comportan dentro de una función.\n",
    "#### Tipos Inmutables (No modificables en la función)\n",
    "Los siguientes tipos de datos son inmutables en Python:\n",
    "- int\n",
    "- float\n",
    "- str\n",
    "- tuple\n",
    "- bool"
   ]
  },
  {
   "cell_type": "code",
   "execution_count": null,
   "id": "1300f33c",
   "metadata": {},
   "outputs": [
    {
     "name": "stdout",
     "output_type": "stream",
     "text": [
      "140727264637864\n",
      "Dentro de la función: 10\n",
      "Fuera de la función: 5\n"
     ]
    }
   ],
   "source": [
    "def modificar_numero(n: int):\n",
    "    n = 10\n",
    "    print(f\"Dentro de la función: {n}\")\n",
    "\n",
    "n = 5\n",
    "modificar_numero(n)\n",
    "print(f\"Fuera de la función: {n}\")"
   ]
  },
  {
   "cell_type": "markdown",
   "id": "3e4f64eb",
   "metadata": {},
   "source": [
    "#### Tipos Mutables (Modificables dentro de la función)\n",
    "Los siguientes tipos de datos son mutables:\n",
    "\n",
    "- list\n",
    "- dict"
   ]
  },
  {
   "cell_type": "code",
   "execution_count": 14,
   "id": "458d228f",
   "metadata": {},
   "outputs": [
    {
     "name": "stdout",
     "output_type": "stream",
     "text": [
      "Dentro de la función: [1, 2, 3, 4]\n",
      "Fuera de la función: [1, 2, 3, 4]\n"
     ]
    }
   ],
   "source": [
    "def modificar_lista(lista: list[int]):\n",
    "    lista.append(4) # añade un elemento a la lista\n",
    "    print(f\"Dentro de la función: {lista}\")\n",
    "\n",
    "mi_lista = [1, 2, 3]\n",
    "modificar_lista(mi_lista)\n",
    "print(f\"Fuera de la función: {mi_lista}\")\n"
   ]
  },
  {
   "cell_type": "markdown",
   "id": "6f0553d8",
   "metadata": {},
   "source": [
    "para evitar esto ssamos `lista.copy()` para crear una nueva lista sin afectar la original. Si tenemos estructuras anidadas (listas dentro de listas), debemos usar `lista.deepcopy()` "
   ]
  },
  {
   "cell_type": "code",
   "execution_count": null,
   "id": "68c654cb",
   "metadata": {},
   "outputs": [
    {
     "name": "stdout",
     "output_type": "stream",
     "text": [
      "Lista original: [1, [2], 3]\n",
      "Lista modificada: [1, [2], 3, 4]\n"
     ]
    }
   ],
   "source": [
    "def modificar_lista(lista: list[int]) -> list[int]:\n",
    "    nueva_lista = lista.copy() \n",
    "    nueva_lista.append(4)\n",
    "    return nueva_lista\n",
    "\n",
    "mi_lista = [1, 2, 3]\n",
    "nueva = modificar_lista(mi_lista)\n",
    "\n",
    "print(f\"Lista original: {mi_lista}\")  \n",
    "print(f\"Lista modificada: {nueva}\")  "
   ]
  },
  {
   "cell_type": "markdown",
   "id": "a37e134a",
   "metadata": {},
   "source": [
    "### Parámetros variables (*args y **kwargs)\n",
    "Si no sabemos cuántos valores se van a pasar, podemos usar:\n",
    "\n",
    "- `*args`: Recibe argumentos posicionales (como una tupla).\n",
    "- `**kwargs`: Recibe argumentos clave-valor (como un diccionario)."
   ]
  },
  {
   "cell_type": "code",
   "execution_count": 29,
   "id": "0f98cf88",
   "metadata": {},
   "outputs": [
    {
     "name": "stdout",
     "output_type": "stream",
     "text": [
      "(5, 10, 15, 20)\n",
      "La suma total es 50\n"
     ]
    }
   ],
   "source": [
    "def suma_total(*numeros):\n",
    "    print(numeros)\n",
    "    total = sum(numeros)\n",
    "    print(f\"La suma total es {total}\")\n",
    "\n",
    "suma_total(5, 10, 15, 20)  # Output: La suma total es 50\n"
   ]
  },
  {
   "cell_type": "code",
   "execution_count": 30,
   "id": "388d9968",
   "metadata": {},
   "outputs": [
    {
     "name": "stdout",
     "output_type": "stream",
     "text": [
      "{'nombre': 'Nuria', 'edad': 30, 'ciudad': 'Alicante'}\n",
      "nombre: Nuria\n",
      "edad: 30\n",
      "ciudad: Alicante\n"
     ]
    }
   ],
   "source": [
    "def mostrar_info(**info):\n",
    "    print(info)\n",
    "    for clave, valor in info.items():\n",
    "        print(f\"{clave}: {valor}\")\n",
    "\n",
    "mostrar_info(nombre=\"Nuria\", edad=30, ciudad=\"Alicante\")\n"
   ]
  },
  {
   "cell_type": "markdown",
   "id": "bd487c69",
   "metadata": {},
   "source": [
    "### Funciones lambda (esto es god pero es la muerte)\n",
    "Son funciones pequeñas de una sola línea sin `def`.  \n",
    "\n",
    "Se utilizan principalmente para funciones cortas y simples que se pueden definir en una sola expresión. "
   ]
  },
  {
   "cell_type": "code",
   "execution_count": 31,
   "id": "c6de837b",
   "metadata": {},
   "outputs": [
    {
     "name": "stdout",
     "output_type": "stream",
     "text": [
      "10\n",
      "10\n"
     ]
    }
   ],
   "source": [
    "doblar = lambda x: x * 2\n",
    "print(doblar(5))  \n",
    "\n",
    "suma = lambda a, b: a + b\n",
    "print(suma(3, 7))  \n"
   ]
  },
  {
   "cell_type": "markdown",
   "id": "5aa2718f",
   "metadata": {},
   "source": [
    "son útiles en funciones como `map(), filter() y sorted()`"
   ]
  },
  {
   "cell_type": "code",
   "execution_count": 32,
   "id": "a7d16dad",
   "metadata": {},
   "outputs": [
    {
     "name": "stdout",
     "output_type": "stream",
     "text": [
      "[6, 14, 2, 10]\n"
     ]
    }
   ],
   "source": [
    "numeros = [3, 7, 1, 5]\n",
    "numeros_doblados = list(map(lambda x: x * 2, numeros))\n",
    "print(numeros_doblados)  "
   ]
  },
  {
   "cell_type": "markdown",
   "id": "d8aa39f1",
   "metadata": {},
   "source": [
    "# Buenas prácticas en funciones\n",
    "- Usa nombres claros y descriptivos.\n",
    "- Escribe documentación (docstrings) con \"\"\" \"\"\".\n",
    "- Mantén las funciones cortas y con un único propósito.\n",
    "- Evita modificar variables globales dentro de una función.\n",
    "- Si una función devuelve un valor, úsalo en vez de solo imprimirlo.\n",
    "\n",
    "Ejemplo con docstring:"
   ]
  },
  {
   "cell_type": "code",
   "execution_count": null,
   "id": "715dd2a6",
   "metadata": {},
   "outputs": [
    {
     "name": "stdout",
     "output_type": "stream",
     "text": [
      "Help on function area_circulo in module __main__:\n",
      "\n",
      "area_circulo(radio)\n",
      "    Calcula el área de un círculo dado su radio.\n",
      "    Args\n",
      "        radio (int): radio del circulo\n",
      "    Returns:\n",
      "        float: area del circulo\n",
      "\n",
      "28.274333882308138\n"
     ]
    }
   ],
   "source": [
    "import math\n",
    "def area_circulo(radio):\n",
    "    \"\"\"Calcula el área de un círculo dado su radio.\n",
    "    Args\n",
    "        radio (int): radio del circulo\n",
    "    Returns:\n",
    "        float: area del circulo\n",
    "    \"\"\"\n",
    "    return math.pi* radio ** 2 \n",
    "\n",
    "\n",
    "help(area_circulo)\n",
    "print(area_circulo(3))"
   ]
  },
  {
   "cell_type": "markdown",
   "id": "d1a5b249",
   "metadata": {},
   "source": [
    "Ejemplo con docstring:"
   ]
  }
 ],
 "metadata": {
  "kernelspec": {
   "display_name": "Python 3",
   "language": "python",
   "name": "python3"
  },
  "language_info": {
   "codemirror_mode": {
    "name": "ipython",
    "version": 3
   },
   "file_extension": ".py",
   "mimetype": "text/x-python",
   "name": "python",
   "nbconvert_exporter": "python",
   "pygments_lexer": "ipython3",
   "version": "3.11.9"
  }
 },
 "nbformat": 4,
 "nbformat_minor": 5
}
