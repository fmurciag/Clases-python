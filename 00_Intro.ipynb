{
 "cells": [
  {
   "cell_type": "markdown",
   "metadata": {
    "slideshow": {
     "slide_type": "fragment"
    }
   },
   "source": [
    "- Documentación oficial \n",
    " - Python: https://docs.python.org/3/"
   ]
  },
  {
   "cell_type": "markdown",
   "metadata": {
    "slideshow": {
     "slide_type": "subslide"
    }
   },
   "source": [
    "## Instalación local\n",
    "\n",
    "Se puede optar por las siguientes configuraciones:\n",
    "- Local con Anaconda\n",
    "  - Incluye módulos para el curso (__NumPy__, __pandas__, __matplotlib__, __jupyter notebook__...)\n",
    "  - http://docs.anaconda.com/anaconda/install/\n",
    "  - https://docs.anaconda.com/anaconda/user-guide/getting-started\n",
    "- Docker container\n",
    "- Instalar Python y entorno virtual\n",
    "  - Guía de instalación (para Windows, Linux y macOS): https://realpython.com/installing-python/\n",
    "  - [Python 3.11.x](https://www.python.org/downloads/) [3.7, 3.11]\n",
    "  - [3.11.6](https://www.python.org/downloads/release/python-3116/)\n",
    "  - No olvidéis marcar el checkbox con la opción de añadir Python a la variable de entorno PATH.\n",
    "- Google colab\n",
    "- IDEs: VSCode, PyCharm...\n",
    "\n",
    "\n",
    "$*$  [Tensorflow requirements](https://www.tensorflow.org/install/pip) Python 3.8 a 3.11 y Keras [Keras requirements](https://keras.io/about/) Python 3.7–3.10"
   ]
  },
  {
   "cell_type": "markdown",
   "metadata": {
    "slideshow": {
     "slide_type": "subslide"
    }
   },
   "source": [
    "## Contenidos\n",
    "\n",
    "#### Introducción a la sintaxis de Python 3"
   ]
  },
  {
   "cell_type": "markdown",
   "metadata": {},
   "source": [
    "## Tipos de lenguajes \n",
    "\n",
    "### Bajo alto nivel\n",
    "\n",
    "Como de amigable es al usuario y a la maquina\n",
    "\n",
    "![logo](img\\inicio\\alti-bajo.jpg)\n",
    "<img src=\"img\\inicio\\alto_bajo.png\" width=\"400\">\n",
    "\n",
    "### Compilacion \n",
    "\n",
    "<img src=\"img\\inicio\\compilado.png\" width=\"500\">\n",
    "\n",
    "### Tipado \n",
    "\n",
    "<img src=\"img\\inicio\\tipado.png\" width=\"800\">\n",
    "\n",
    "\n"
   ]
  },
  {
   "cell_type": "markdown",
   "metadata": {},
   "source": [
    "## Sintaxis \n",
    "<img src=\"img\\inicio\\sintaxis.png\" width=\"800\">"
   ]
  },
  {
   "cell_type": "markdown",
   "metadata": {},
   "source": [
    "# Principales características\n",
    "\n",
    "* Lenguaje de propósito general\n",
    "* Interpretado, no compilado. Más flexible y portable\n",
    "* Tipado dinámico\n",
    "* Fuertemente tipado\n",
    "* Énfasis en la legibilidad\n",
    "* Lenguaje de alto nivel\n",
    "* Gestión automática de memoria. Cuando el rendimiento es crítico, hay lenguajes más apropiados\n",
    "* Multiparadigma: orientado a objetos, procedural y funcional\n",
    "* Indentación para delimitar bloques de código\n",
    "* Gran librería con módulos para múltiples tareas\n",
    "* Multiplataforma"
   ]
  },
  {
   "cell_type": "markdown",
   "metadata": {},
   "source": [
    "### ¿Por qué Python?\n",
    "\n",
    "> “Python is used in pursuits as diverse as data science, film-making,\n",
    "computer science education, IT management, and much more. There really\n",
    "is no computing field that Python has not touched (except maybe kernel\n",
    "development). Python is loved for its flexibility, beautiful and succinct\n",
    "syntax, object-oriented purity, and bustling community. The strong\n",
    "community is important because it means Python is welcoming to\n",
    "newcomers and has a large ecosystem of available libraries for developers\n",
    "to build upon.”\n",
    "\n",
    "Kopec, D. (2019). Classic computer science problems in Python. Simon\n",
    "and Schuster.\n",
    "\n",
    "* Uno de los lenguajes más usados en todo el mundo\n",
    "* Perfecto para introducción a la programación\n",
    "* Ecosistema amplio con librerías estables para múltiples áreas\n",
    "* Comunidad muy participativa y mucha documentación\n",
    "* Incrementa productividad del desarrollador.\n",
    "  * Menos programación. Código más compacto.\n",
    "  * No largas compilaciones.\n",
    "  * Código legible, facilmente mantenible\n",
    "* Fácil integración con herramientas y otros lenguajes\n",
    "* Versátil en la tipología de programación\n",
    "* Es multiplataforma, portable\n",
    "* Compilable para mejorar ejecución\n",
    "* Trabajo en memoria con gran cantidad de datos\n",
    "\n",
    "[Stack Overflow Developer Survey 2022](https://survey.stackoverflow.co/2022/)\n",
    "\n",
    "[IEEE, The Top Programming Languages 2022](https://spectrum.ieee.org/top-programming-languages-2022)\n",
    "\n",
    "[Tiobe Index](https://www.tiobe.com/tiobe-index/)\n",
    "\n",
    "[HackerRank Developer Skills Report](https://info.hackerrank.com/rs/487-WAY-049/images/HackerRank-2020-Developer-Skills-Report.pdf)"
   ]
  },
  {
   "cell_type": "markdown",
   "metadata": {},
   "source": [
    "### ¿Qué puedo hacer con Python?\n",
    "\n",
    "* Herramientas shell (administración de sistemas).\n",
    "  * Manipulación de ficheros.\n",
    "  * Ejecución de comandos.\n",
    "* Desarrollo de Interfaces Gráficas de Usuario (GUIs).\n",
    "* Internet and network communication.\n",
    "  * Generación y parseado de XML y JSON.\n",
    "  * Recuperación de webs por URL.\n",
    "  * Comunicación a través de sockets.\n",
    "  * Transferencia de ficheros por FTP.\n",
    "* Programación de base de datos.\n",
    "* Computación numérica (NumPy).\n",
    "* Análisis lenguaje natural.\n",
    "* Aprendizaje automático e inteligencia artificial.\n",
    "* Programación multimedia.\n",
    "* Tratamiento de datos\n",
    "  * linear algebra\n",
    "  * statistical modeling\n",
    "  * visualization\n",
    "  * computational linguistics\n",
    "  * graph analysis \n",
    "  * machine learning\n",
    "  * business intelligence\n",
    "  * data storage and retrieval"
   ]
  },
  {
   "cell_type": "markdown",
   "metadata": {},
   "source": [
    "# Filosofia python"
   ]
  },
  {
   "cell_type": "code",
   "execution_count": null,
   "metadata": {},
   "outputs": [],
   "source": [
    "%pip install this\n",
    "import this"
   ]
  },
  {
   "cell_type": "markdown",
   "metadata": {},
   "source": [
    "## Interprete de python\n",
    "### ¿Qué es un intérprete?\n",
    "\n",
    "* Un programa que ejecuta otros programas.\n",
    "\n",
    "* Una capa de software entre tu código y el hardware que lo ejecuta.\n",
    "\n",
    "* Debe estar instalado en tu ordenador para poder ejecutar código Python.\n",
    "\n",
    "* Para la [especificación de Python](https://docs.python.org/3/reference/index.html), existen varias implementaciones:\n",
    "\n",
    "   * CPython (implementación en C). Es el más común.\n",
    "   * Jython (implementación en Java).\n",
    "   * IronPython (implementación en .NET).\n",
    "\n",
    "### Perspectiva del desarrollador\n",
    "\n",
    "* Un script en Python es un fichero de texto que:\n",
    "\n",
    "  * Contiene instrucciones Python.\n",
    "  * Tiene extension *.py*.\n",
    "\n",
    "\n",
    "* Puedes ejecutar scripts:\n",
    "\n",
    "  * Línea de comandos\n",
    "  * IDE\n",
    "  \n",
    "### Perspectiva de Python\n",
    "\n",
    "1. Compilación de código fuente a *byte code*.\n",
    "\n",
    "    * Código byte code se ejecuta más rápido.\n",
    "    * Ficheros *.pyc* que se almacenan en caché.\n",
    "    * Permite saltarse el paso de compilación.\n",
    "\n",
    "\n",
    "2. Python Virtual Machine (PVM)\n",
    "\n",
    "    * Ejecuta las instrucciones en *byte code*."
   ]
  },
  {
   "cell_type": "markdown",
   "metadata": {},
   "source": [
    "## Gestor de paqueteria: `pip`\n",
    "\n",
    "### ¿Qué es `pip`?\n",
    "`pip` (**P**ackage **I**nstaller for **P**ython) es el gestor de paquetes oficial de Python. Permite instalar, actualizar y gestionar paquetes desde el repositorio [PyPI (Python Package Index)](https://pypi.org/).\n",
    "\n",
    "### Verificar si `pip` está instalado\n",
    "Antes de usar `pip`, verifica si está instalado en tu sistema:\n",
    "\n",
    "```sh\n",
    "pip --version\n",
    "\n",
    "### Verificar si `pip` está instalado\n"
   ]
  },
  {
   "cell_type": "markdown",
   "metadata": {},
   "source": [
    "# Ejemplos"
   ]
  },
  {
   "cell_type": "markdown",
   "metadata": {},
   "source": [
    "## Simulador de reacciones \n",
    "(ni puta idea si esta bien creo que si, porfa internet no me falles)\n",
    "\n",
    "Aquí tienes el código en Python para un **Simulador de Reacciones Químicas con Ley de Velocidad**, que modela una reacción de primer orden:\n",
    "$$ A \\rightarrow  B $$\n",
    "Donde la velocidad de reacción sigue la ecuación:\n",
    "\n",
    "$$\n",
    "\\frac{d[A]}{dt} = -k[A]\n",
    "$$\n",
    "\n"
   ]
  },
  {
   "cell_type": "code",
   "execution_count": 1,
   "metadata": {},
   "outputs": [
    {
     "data": {
      "image/png": "[encoded data removed]",
      "text/plain": [
       "<Figure size 800x500 with 1 Axes>"
      ]
     },
     "metadata": {},
     "output_type": "display_data"
    }
   ],
   "source": [
    "import numpy as np\n",
    "import matplotlib.pyplot as plt\n",
    "from scipy.integrate import solve_ivp\n",
    "\n",
    "def reaction_rate(t, C, k):\n",
    "    \"\"\"Ecuación diferencial para una reacción de primer orden A -> B.\"\"\"\n",
    "    dCdt = -k * C\n",
    "    return [dCdt]\n",
    "\n",
    "def simulate_reaction(C0, k, t_max):\n",
    "    \"\"\"Simula la reacción química y grafica la evolución de la concentración de A.\"\"\"\n",
    "    t_span = (0, t_max)\n",
    "    t_eval = np.linspace(0, t_max, 100)\n",
    "    \n",
    "    sol = solve_ivp(reaction_rate, t_span, [C0], args=(k,), t_eval=t_eval)\n",
    "    \n",
    "    plt.figure(figsize=(8, 5))\n",
    "    plt.plot(sol.t, sol.y[0], label='[A] (mol/L)', color='b')\n",
    "    plt.xlabel('Tiempo (s)')\n",
    "    plt.ylabel('Concentración (mol/L)')\n",
    "    plt.title(f'Reacción de Primer Orden (k={k})')\n",
    "    plt.legend()\n",
    "    plt.grid()\n",
    "    plt.show()\n",
    "\n",
    "# Parámetros iniciales\n",
    "C0 = 15.0  # Concentración inicial de A en mol/L\n",
    "k = 0.15   # Constante de velocidad en s⁻¹\n",
    "t_max = 50  # Tiempo de simulación en segundos\n",
    "\n",
    "simulate_reaction(C0, k, t_max)\n"
   ]
  },
  {
   "cell_type": "markdown",
   "metadata": {},
   "source": [
    "## Simulador de Procesos de Destilación Binaria\n",
    "(ni puta idea si esta bien creo que si, porfa internet no me falles)\n",
    "\n",
    "Aquí tienes el código en Python para un **Simulador de Procesos de Destilación Binaria**, que modela la separación de una mezcla de dos componentes con diferente volatilidad.  \n",
    "Se basa en la **ecuación de Fenske**, que nos permite calcular el número mínimo de platos teóricos necesarios para lograr la separación deseada.\n",
    "\n",
    "En un sistema de **destilación binaria**, la relación entre la fracción molar de un componente en la fase líquida ($x$) y la fase vapor ($y$) se describe mediante la **curva de equilibrio**:\n",
    "\n",
    "$$\n",
    "y = \\frac{\\alpha x}{1 + (\\alpha - 1)x}\n",
    "$$\n",
    "\n",
    "Donde:\n",
    "\n",
    "- $\\alpha$ es la **volatilidad relativa** del componente más volátil respecto al menos volátil.\n",
    "- $x$  es la **fracción molar** en la fase líquida.\n",
    "- $y$ es la **fracción molar** en la fase vapor.\n",
    "\n",
    "Para calcular el **número mínimo de platos teóricos**, utilizamos la **ecuación de Fenske**:\n",
    "\n",
    "$$\n",
    "N_{\\text{mín}} = \\frac{\\ln \\left( \\frac{x_D}{1 - x_D} \\div \\frac{x_B}{1 - x_B} \\right)}{\\ln (\\alpha)}\n",
    "$$\n",
    "\n",
    "Donde:\n",
    "\n",
    "- $x_D$ es la **fracción molar del componente más volátil en el destilado**.\n",
    "- $x_B$ es la **fracción molar en el residuo**.\n",
    "- $N_{\\text{mín}}$ es el número **mínimo** de platos teóricos requeridos para la separación.\n",
    "\n",
    "\n"
   ]
  },
  {
   "cell_type": "code",
   "execution_count": 2,
   "metadata": {},
   "outputs": [
    {
     "name": "stdout",
     "output_type": "stream",
     "text": [
      "Número mínimo de platos según Fenske: 4.80\n"
     ]
    },
    {
     "data": {
      "image/png": "[encoded data removed]",
      "text/plain": [
       "<Figure size 800x600 with 1 Axes>"
      ]
     },
     "metadata": {},
     "output_type": "display_data"
    }
   ],
   "source": [
    "import numpy as np\n",
    "import matplotlib.pyplot as plt\n",
    "\n",
    "def equilibrium_curve(alpha):\n",
    "    \"\"\"Calcula la curva de equilibrio de fases para una destilación binaria.\"\"\"\n",
    "    x = np.linspace(0, 1, 100)\n",
    "    y = alpha * x / (1 + (alpha - 1) * x)\n",
    "    return x, y\n",
    "\n",
    "def fenske_min_trays(alpha, xD, xB):\n",
    "    \"\"\"Calcula el número mínimo de platos teóricos según la ecuación de Fenske.\"\"\"\n",
    "    return np.log((xD / (1 - xD)) / (xB / (1 - xB))) / np.log(alpha)\n",
    "\n",
    "def plot_distillation(alpha, xD, xB):\n",
    "    \"\"\"Genera la curva de equilibrio y la línea de operación para visualización.\"\"\"\n",
    "    x, y = equilibrium_curve(alpha)\n",
    "    \n",
    "    plt.figure(figsize=(8, 6))\n",
    "    plt.plot(x, y, label='Curva de equilibrio', color='b')\n",
    "    plt.plot(x, x, '--', label='Línea de equilibrio', color='gray')\n",
    "    plt.scatter([xB, xD], [xB, xD], color='red', label='Composiciones')\n",
    "    \n",
    "    plt.xlabel('Fracción molar de A en líquido (x)')\n",
    "    plt.ylabel('Fracción molar de A en vapor (y)')\n",
    "    plt.title(f'Destilación Binaria (α={alpha})')\n",
    "    plt.legend()\n",
    "    plt.grid()\n",
    "    plt.show()\n",
    "\n",
    "# Parámetros de la destilación\n",
    "alpha = 2.5   # Volatilidad relativa\n",
    "xD = 0.9      # Fracción molar en el destilado\n",
    "xB = 0.1      # Fracción molar en el residuo\n",
    "\n",
    "min_trays = fenske_min_trays(alpha, xD, xB)\n",
    "print(f'Número mínimo de platos según Fenske: {min_trays:.2f}')\n",
    "plot_distillation(alpha, xD, xB)\n"
   ]
  },
  {
   "cell_type": "markdown",
   "metadata": {},
   "source": [
    "## Detector de cosas de moleculas\n",
    "Aquí tienes un cosas con Web Scraping en Python. Este script busca la propiedad de un compuesto químico en PubChem mediante web scraping\n",
    "\n",
    "\n",
    "| **Compuesto**   | **Nombre en inglés** | **Fórmula química** |\n",
    "|-----------------|----------------------|---------------------|\n",
    "| Agua            | `water`              | H₂O                 |\n",
    "| Etanol          | `ethanol`            | C₂H₆O               |\n",
    "| Metano          | `methane`            | CH₄                 |\n",
    "| Glucosa         | `glucose`            | C₆H₁₂O₆             |\n",
    "| Benceno         | `benzene`            | C₆H₆                |\n",
    "| Ácido acético   | `acetic acid`        | C₂H₄O₂              |\n",
    "| Acetona         | `acetone`            | C₃H₆O               |\n",
    "| Dióxido de carbono | `carbon dioxide`  | CO₂                 |\n",
    "| Ácido sulfúrico | `sulfuric acid`      | H₂SO₄               |\n",
    "| Amoniaco        | `ammonia`            | NH₃                 |\n",
    "\n",
    "Este escript saca todas estas caracteristicas\n",
    "\n",
    "\n",
    "| **Categoría**               | **Propiedad**                   | **Descripción** |\n",
    "|-----------------------------|---------------------------------|----------------|\n",
    "| **Identificación**          | `\"IUPAC Name\"`                  | Nombre IUPAC del compuesto. |\n",
    "|                             | `\"Molecular Formula\"`           | Fórmula molecular. |\n",
    "|                             | `\"Molecular Weight\"`            | Peso molecular (g/mol). |\n",
    "|                             | `\"InChI\"`                       | Identificador estandarizado InChI. |\n",
    "|                             | `\"InChIKey\"`                    | Clave InChI para búsqueda rápida. |\n",
    "|                             | `\"SMILES\"`                      | Representación estructural en formato SMILES. |\n",
    "|                             | `\"Canonical SMILES\"`            | SMILES canónico del compuesto. |\n",
    "| **Físico-químicas**         | `\"Log P\"`                       | Coeficiente de partición octanol-agua. |\n",
    "|                             | `\"Boiling Point\"`               | Punto de ebullición (°C). |\n",
    "|                             | `\"Exact Mass\"`                  | Masa exacta del compuesto. |\n",
    "| **Estructura y enlaces**    | `\"Hydrogen Bond Acceptor\"`      | Número de aceptores de enlaces de hidrógeno. |\n",
    "|                             | `\"Hydrogen Bond Donor\"`         | Número de donadores de enlaces de hidrógeno. |\n",
    "|                             | `\"Rotatable Bond\"`              | Número de enlaces rotables. |\n",
    "| **Otros**                   | `\"Topological Polar Surface Area\"` | Área polar superficial topológica (TPSA). |\n",
    "|                             | `\"Compound Complexity\"`         | Complejidad estructural del compuesto. |\n",
    "\n",
    "---"
   ]
  },
  {
   "cell_type": "code",
   "execution_count": 7,
   "metadata": {},
   "outputs": [
    {
     "name": "stdout",
     "output_type": "stream",
     "text": [
      "\n",
      "Propiedades de benzene:\n",
      "\n",
      "+----------------------------------------------+------------------------------------+\n",
      "| Propiedad                                    | Valor                              |\n",
      "+==============================================+====================================+\n",
      "| Complejidad estructural del compuesto        | 15.5                               |\n",
      "+----------------------------------------------+------------------------------------+\n",
      "| Nombre IUPAC                                 | benzene                            |\n",
      "+----------------------------------------------+------------------------------------+\n",
      "| Nombre IUPAC                                 | benzene                            |\n",
      "+----------------------------------------------+------------------------------------+\n",
      "| Nombre IUPAC                                 | benzene                            |\n",
      "+----------------------------------------------+------------------------------------+\n",
      "| Nombre IUPAC                                 | benzene                            |\n",
      "+----------------------------------------------+------------------------------------+\n",
      "| Nombre IUPAC                                 | benzene                            |\n",
      "+----------------------------------------------+------------------------------------+\n",
      "| Nombre IUPAC                                 | benzene                            |\n",
      "+----------------------------------------------+------------------------------------+\n",
      "| Identificador estandarizado InChI            | InChI=1S/C6H6/c1-2-4-6-5-3-1/h1-6H |\n",
      "+----------------------------------------------+------------------------------------+\n",
      "| Clave InChI para búsqueda rápida             | UHOVQNZJYSORNB-UHFFFAOYSA-N        |\n",
      "+----------------------------------------------+------------------------------------+\n",
      "| Coeficiente de partición octanol-agua        | 2.1                                |\n",
      "+----------------------------------------------+------------------------------------+\n",
      "| Fórmula molecular                            | C6H6                               |\n",
      "+----------------------------------------------+------------------------------------+\n",
      "| Peso molecular (g/mol)                       | 78.11                              |\n",
      "+----------------------------------------------+------------------------------------+\n",
      "| Representación estructural en formato SMILES | C1=CC=CC=C1                        |\n",
      "+----------------------------------------------+------------------------------------+\n",
      "| Representación estructural en formato SMILES | C1=CC=CC=C1                        |\n",
      "+----------------------------------------------+------------------------------------+\n",
      "| Representación estructural en formato SMILES | C1=CC=CC=C1                        |\n",
      "+----------------------------------------------+------------------------------------+\n"
     ]
    }
   ],
   "source": [
    "import requests\n",
    "from tabulate import tabulate\n",
    "\n",
    "def get_all_properties(compound):\n",
    "    \"\"\"Obtiene todas las propiedades disponibles de un compuesto usando la API de PubChem.\"\"\"\n",
    "    url = f\"https://pubchem.ncbi.nlm.nih.gov/rest/pug/compound/name/{compound}/JSON\"\n",
    "    response = requests.get(url)\n",
    "    \n",
    "    if response.status_code == 200:\n",
    "        data = response.json()\n",
    "        try:\n",
    "            properties = data[\"PC_Compounds\"][0][\"props\"]\n",
    "            all_props = []\n",
    "            \n",
    "            # Definir propiedades de interés\n",
    "            properties_of_interest = {\n",
    "                \"IUPAC Name\": \"Nombre IUPAC\",\n",
    "                \"Molecular Formula\": \"Fórmula molecular\",\n",
    "                \"Molecular Weight\": \"Peso molecular (g/mol)\",\n",
    "                \"InChI\": \"Identificador estandarizado InChI\",\n",
    "                \"InChIKey\": \"Clave InChI para búsqueda rápida\",\n",
    "                \"SMILES\": \"Representación estructural en formato SMILES\",\n",
    "                \"Canonical SMILES\": \"SMILES canónico del compuesto\",\n",
    "                \"Log P\": \"Coeficiente de partición octanol-agua\",\n",
    "                \"Boiling Point\": \"Punto de ebullición (°C)\",\n",
    "                \"Exact Mass\": \"Masa exacta del compuesto\",\n",
    "                \"Hydrogen Bond Acceptor\": \"Número de aceptores de enlaces de hidrógeno\",\n",
    "                \"Hydrogen Bond Donor\": \"Número de donadores de enlaces de hidrógeno\",\n",
    "                \"Rotatable Bond\": \"Número de enlaces rotables\",\n",
    "                \"Topological Polar Surface Area\": \"Área polar superficial topológica (TPSA)\",\n",
    "                \"Compound Complexity\": \"Complejidad estructural del compuesto\"\n",
    "            }\n",
    "            \n",
    "            for prop in properties:\n",
    "                urn_label = prop.get(\"urn\", {}).get(\"label\", \"\")\n",
    "                urn_name = prop.get(\"urn\", {}).get(\"name\", \"\")\n",
    "                value = prop[\"value\"].get(\"sval\", prop[\"value\"].get(\"fval\", prop[\"value\"].get(\"ival\", \"No disponible\")))\n",
    "                \n",
    "                prop_key = f\"{urn_label} - {urn_name}\" if urn_name else urn_label\n",
    "                \n",
    "                # Solo agregar si está en la lista de propiedades de interés\n",
    "                if urn_label in properties_of_interest:\n",
    "                    all_props.append([properties_of_interest[urn_label], value])\n",
    "            \n",
    "            return all_props\n",
    "        except (KeyError, IndexError):\n",
    "            pass\n",
    "    \n",
    "    print(f\"No se encontraron propiedades para {compound}\")\n",
    "    return None\n",
    "\n",
    "def print_properties_as_table(compound):\n",
    "    \"\"\"Imprime todas las propiedades del compuesto en formato tabla en la terminal usando tabulate.\"\"\"\n",
    "    properties = get_all_properties(compound)\n",
    "    if properties:\n",
    "        print(f\"\\nPropiedades de {compound}:\\n\")\n",
    "        print(tabulate(properties, headers=[\"Propiedad\", \"Valor\"], tablefmt=\"grid\"))\n",
    "    else:\n",
    "        print(\"No se encontraron propiedades.\")\n",
    "\n",
    "# Ejemplo de uso\n",
    "compound_name = \"benzene\"  \n",
    "print_properties_as_table(compound_name)\n",
    "\n"
   ]
  },
  {
   "cell_type": "code",
   "execution_count": 8,
   "metadata": {},
   "outputs": [],
   "source": [
    "import requests\n",
    "from rdkit import Chem\n",
    "from rdkit.Chem import Draw\n",
    "\n",
    "def get_smiles_from_formula(formula):\n",
    "    \"\"\"Obtiene la representación SMILES de un compuesto dado su fórmula molecular.\"\"\"\n",
    "    url = f\"https://pubchem.ncbi.nlm.nih.gov/rest/pug/compound/fastformula/{formula}/property/CanonicalSMILES/JSON\"\n",
    "    response = requests.get(url)\n",
    "    \n",
    "    if response.status_code == 200:\n",
    "        data = response.json()\n",
    "        try:\n",
    "            smiles = data[\"PropertyTable\"][\"Properties\"][0][\"CanonicalSMILES\"]\n",
    "            return smiles\n",
    "        except (KeyError, IndexError):\n",
    "            print(f\"No se encontró la representación SMILES para {formula}\")\n",
    "            return None\n",
    "    else:\n",
    "        print(\"Error en la solicitud a PubChem\")\n",
    "        return None\n",
    "\n",
    "def draw_molecule_from_formula(formula):\n",
    "    \"\"\"Dibuja la molécula a partir de su fórmula química utilizando RDKit.\"\"\"\n",
    "    smiles = get_smiles_from_formula(formula)\n",
    "    if smiles:\n",
    "        mol = Chem.MolFromSmiles(smiles)\n",
    "        img = Draw.MolToImage(mol, size=(300, 300))\n",
    "        return img\n",
    "    else:\n",
    "        print(\"No se pudo dibujar la molécula.\")\n",
    "        return None\n",
    "\n",
    "# Ejemplo de uso\n",
    "formula = \"C6H6\"  # Fórmula molecular de la glucosa\n",
    "image = draw_molecule_from_formula(formula)\n",
    "if image:\n",
    "    image.show()"
   ]
  }
 ],
 "metadata": {
  "celltoolbar": "Slideshow",
  "kernelspec": {
   "display_name": "Python 3.10.0 ('.clases-env': venv)",
   "language": "python",
   "name": "python3"
  },
  "language_info": {
   "codemirror_mode": {
    "name": "ipython",
    "version": 3
   },
   "file_extension": ".py",
   "mimetype": "text/x-python",
   "name": "python",
   "nbconvert_exporter": "python",
   "pygments_lexer": "ipython3",
   "version": "3.10.0"
  },
  "metadata": {
   "interpreter": {
    "hash": "f35a06f707b9576dd6b3ef079e74b1f578cbc33a28427aac1052a70586e6d412"
   }
  },
  "vscode": {
   "interpreter": {
    "hash": "34fcb5feb32ada71e4118324ec233a1a59c1ce5fb61e979fd0e0c1b76fa044fb"
   }
  }
 },
 "nbformat": 4,
 "nbformat_minor": 4
}
