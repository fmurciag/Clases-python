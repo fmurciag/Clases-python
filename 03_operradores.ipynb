{
 "cells": [
  {
   "cell_type": "markdown",
   "id": "03e866e8",
   "metadata": {},
   "source": [
    "# Operadores\n",
    "[Python3 precedencia en operaciones](https://docs.python.org/3/reference/expressions.html#operator-precedence)\n",
    "\n",
    "- Combinación de valores, variables y operadores\n",
    "- Operadores y operandos\n",
    "\n",
    "## Operatores aritméticos\n",
    "\n",
    "| Operador | Desc |\n",
    "|:---------|:-----|\n",
    "| a + b    | Suma |\n",
    "| a - b    | Resta |\n",
    "| a / b    | División |\n",
    "| a // b   | División Entera |\n",
    "| a % b    | Modulo |\n",
    "| a * b    | Multiplicacion |\n",
    "| a ** b   | Exponenciación |"
   ]
  },
  {
   "cell_type": "code",
   "execution_count": 1,
   "id": "ba2c4ba9",
   "metadata": {},
   "outputs": [
    {
     "name": "stdout",
     "output_type": "stream",
     "text": [
      "x + y =  5\n",
      "x - y =  1\n",
      "x * y =  6\n",
      "x / y =  1.5\n",
      "x // y =  1\n",
      "x % y =  1\n",
      "x ** y =  9\n"
     ]
    }
   ],
   "source": [
    "x = 3\n",
    "y = 2\n",
    "\n",
    "print('x + y = ', x + y)\n",
    "print('x - y = ', x - y)\n",
    "print('x * y = ', x * y)\n",
    "print('x / y = ', x / y)\n",
    "print('x // y = ', x // y)\n",
    "print('x % y = ', x % y)\n",
    "print('x ** y = ', x ** y)"
   ]
  },
  {
   "cell_type": "markdown",
   "id": "0231a23c",
   "metadata": {},
   "source": [
    "## Operadores de comparación\n",
    "\n",
    "| Operador | Desc |\n",
    "|:---------|:-----|\n",
    "| a > b    | Mayor |\n",
    "| a < b    | Menor |\n",
    "| a == b    | Igualdad |\n",
    "| a != b   | Desigualdad |\n",
    "| a >= b    | Mayor o Igual |\n",
    "| a <= b    | Menor o Igual |"
   ]
  },
  {
   "cell_type": "code",
   "execution_count": 2,
   "id": "e85bd94d",
   "metadata": {},
   "outputs": [
    {
     "name": "stdout",
     "output_type": "stream",
     "text": [
      "x > y  es  False\n",
      "x < y  es  True\n",
      "x == y es  False\n",
      "x != y es  True\n",
      "x >= y es  False\n",
      "x <= y es  True\n"
     ]
    }
   ],
   "source": [
    "x = 10\n",
    "y = 12\n",
    "\n",
    "print('x > y  es ', x > y)\n",
    "print('x < y  es ', x < y)\n",
    "print('x == y es ', x == y)\n",
    "print('x != y es ', x != y)\n",
    "print('x >= y es ', x >= y)\n",
    "print('x <= y es ', x <= y)"
   ]
  },
  {
   "cell_type": "markdown",
   "id": "08ce8678",
   "metadata": {},
   "source": [
    "## Operadores Lógicos\n",
    "\n",
    "\n",
    "| Operador | Desc |\n",
    "|:---------|:-----|\n",
    "| a and b  | True, si ambos son True |\n",
    "| a or b   | True, si alguno de los dos es True |\n",
    "| not a    | Negación |\n",
    "\n",
    "#### Tabla de verdad para la negación (not A)\n",
    "\n",
    "| A  | not A |\n",
    "|----|----|\n",
    "| 0  | 1  |\n",
    "| 1  | 0  |\n",
    "\n",
    "#### Tabla de verdad para la conjunción (A and B)\n",
    "\n",
    "| A  | B  | A and B |\n",
    "|----|----|------|\n",
    "| 0  | 0  |  0   |\n",
    "| 0  | 1  |  0   |\n",
    "| 1  | 0  |  0   |\n",
    "| 1  | 1  |  1   |\n",
    "\n",
    "#### Tabla de verdad para la disyunción (A or B)\n",
    "\n",
    "| A  | B  | A or B |\n",
    "|----|----|------|\n",
    "| 0  | 0  |  0   |\n",
    "| 0  | 1  |  1   |\n",
    "| 1  | 0  |  1   |\n",
    "| 1  | 1  |  1   |"
   ]
  },
  {
   "cell_type": "code",
   "execution_count": 5,
   "id": "816b08e6",
   "metadata": {},
   "outputs": [
    {
     "name": "stdout",
     "output_type": "stream",
     "text": [
      "x and y es    : False\n",
      "x or y es     : True\n",
      "not x es      : False\n",
      "not x and y es: False\n"
     ]
    }
   ],
   "source": [
    "x = True\n",
    "y = False\n",
    "\n",
    "print('x and y es    :', x and y)\n",
    "print('x or y es     :', x or y)\n",
    "print('not x es      :', not x)\n",
    "print('not x and y es:', (not x and y))# se pueden convinar, recomiedo usar parentesis oara hacer bloques"
   ]
  },
  {
   "cell_type": "markdown",
   "id": "e4e2010b",
   "metadata": {},
   "source": [
    "## Operadores de Asignación\n",
    "\n",
    "| Operador | Desc |\n",
    "|:---------|:-----|\n",
    "| =   | Asignación |\n",
    "| +=  | Suma y asignación |\n",
    "| -=  | Resta y asignación|\n",
    "| *=  | Multiplicación y asignación |\n",
    "| /=  | División y asignación |\n",
    "| %=  | Módulo y asignación |\n",
    "| //= | División entera y asignación |\n",
    "| **= | Exponencial y asignación |\n",
    "| &=  | And y asignación |\n",
    "| \\|=  | Or y asignación |\n",
    "| ^=  | Xor y asignación |\n",
    "| >>= | Despl. Derecha y asignación |\n",
    "| <<= | DEspl. Izquierda y asignación |"
   ]
  },
  {
   "cell_type": "code",
   "execution_count": 9,
   "id": "01fe7e74",
   "metadata": {},
   "outputs": [
    {
     "name": "stdout",
     "output_type": "stream",
     "text": [
      "16\n",
      "4\n",
      "3\n"
     ]
    }
   ],
   "source": [
    "a = 5\n",
    "a *= 3   # a = a * 3\n",
    "a += 1   # No existe a++\n",
    "print(a)\n",
    "\n",
    "b = 6\n",
    "b -= 2   # b = b - 2\n",
    "print(b)\n",
    "\n",
    "c = 7\n",
    "c //= 2   # c = 7 // 2\n",
    "print(c)"
   ]
  },
  {
   "cell_type": "markdown",
   "id": "1407b75a",
   "metadata": {},
   "source": [
    "## Operadores de Identidad\n",
    "\n",
    "| Operador | Desc |\n",
    "|:---------|:-----|\n",
    "| a is b  | True, si ambos operadores son una referencia al mismo objeto |\n",
    "| a is not b | True, si ambos operadores *no* son una referencia al mismo objeto |"
   ]
  },
  {
   "cell_type": "code",
   "execution_count": 11,
   "id": "bf05ea30",
   "metadata": {},
   "outputs": [
    {
     "name": "stdout",
     "output_type": "stream",
     "text": [
      "True\n",
      "False\n",
      "True\n"
     ]
    }
   ],
   "source": [
    "a = 4\n",
    "b = a\n",
    "c = 4\n",
    "print(a is b)\n",
    "print(a is not b)\n",
    "print(a is c)"
   ]
  }
 ],
 "metadata": {
  "kernelspec": {
   "display_name": "Python 3.11.9 64-bit (microsoft store)",
   "language": "python",
   "name": "python3"
  },
  "language_info": {
   "codemirror_mode": {
    "name": "ipython",
    "version": 3
   },
   "file_extension": ".py",
   "mimetype": "text/x-python",
   "name": "python",
   "nbconvert_exporter": "python",
   "pygments_lexer": "ipython3",
   "version": "3.11.9"
  },
  "vscode": {
   "interpreter": {
    "hash": "c6d24f28c59bb49c441dc51ffa980db1c7efe4954db3820543d532bf279ddef3"
   }
  }
 },
 "nbformat": 4,
 "nbformat_minor": 5
}
