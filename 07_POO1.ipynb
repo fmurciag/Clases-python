{
 "cells": [
  {
   "cell_type": "markdown",
   "metadata": {},
   "source": [
    "# Programación Orientada a Objetos (POO) en Python\n",
    "## ¿Qué es la POO?\n",
    "La Programación Orientada a Objetos (POO) es una forma de programar donde los datos y las funciones que trabajan con esos datos se agrupan en objetos.\n",
    "\n",
    "En lugar de escribir todo el código como una lista de instrucciones, la POO nos permite organizar el código en clases y objetos, lo que lo hace más fácil de entender y reutilizar.\n",
    "\n",
    "## Conceptos clave\n",
    "- **Clase:** Es un molde o plantilla para crear objetos. Define qué características y comportamientos tendrán esos objetos.\n",
    "- **Objeto:** Es una instancia concreta de una clase. Si la clase es el molde, los objetos son los productos creados a partir de ese molde.\n",
    "- **Atributos:** Son las propiedades de un objeto, como su nombre o edad.\n",
    "- **Métodos:** Son las acciones que un objeto puede hacer. Son funciones dentro de una clase.\n",
    "- **Encapsulamiento:** Es el principio que protege los datos de un objeto para que no puedan ser modificados directamente.\n",
    "- **Herencia:** Es cuando una clase nueva toma las características de otra ya existente.\n",
    "- **Polimorfismo:** Permite que diferentes clases usen un mismo método, pero cada una con su propia forma de ejecutarlo."
   ]
  },
  {
   "cell_type": "markdown",
   "metadata": {},
   "source": []
  },
  {
   "cell_type": "markdown",
   "metadata": {},
   "source": [
    "```mermaid\n",
    "classDiagram\n",
    "    class Animal {\n",
    "        +nombre: string\n",
    "        +edad: int\n",
    "        +hacerSonido(): void\n",
    "        +respirar(): void\n",
    "    }\n",
    "    \n",
    "    class Perro {\n",
    "        +raza: string\n",
    "        +hacerSonido(): void\n",
    "    }\n",
    "    \n",
    "    class Gato {\n",
    "        +colorPelo: string\n",
    "        +dominar_el_mundo(): void\n",
    "        +hacerSonido(): void\n",
    "    }\n",
    "\n",
    "    class Vaca {\n",
    "        +hacerSonido(): void\n",
    "        +dar_leche(): void\n",
    "    }\n",
    "\n",
    "    Animal <|-- Perro\n",
    "    Animal <|-- Gato\n",
    "    Animal <|-- Vaca\n",
    "```\n",
    "\n",
    "\n",
    "\n",
    "### Explicación:\n",
    "\n",
    "#### **Herencia**\n",
    "- **`Animal`** es la **clase base** con atributos `nombre` y `edad`, y un método `hacerSonido()`.\n",
    "- **`Perro`**, **`Gato`** y **`Vaca`** **heredan** de `Animal`, lo que significa que comparten sus atributos y métodos.\n",
    "- Además, las clases hijas pueden agregar sus propios atributos y métodos:\n",
    "  - `Perro` tiene `raza` .\n",
    "  - `Gato` tiene `colorPelo` y un método extra `dominar_el_mundo()`.\n",
    "\n",
    "#### **Polimorfismo**\n",
    "- La clase `Animal` tiene un método `hacerSonido()`, pero **cada clase hija lo implementa de forma diferente**:\n",
    "  - `Perro.hacerSonido()` → \"Guau Guau\"\n",
    "  - `Gato.hacerSonido()` → \"Miau Miau\"\n",
    "  - `Vaca.hacerSonido()` → \"Muu Muu\"\n",
    "\n",
    "Esto permite que un programa pueda **tratar a todos los objetos como `Animal`**, pero cuando se llama `hacerSonido()`, el comportamiento **varía según el tipo de animal**.\n",
    "\n",
    "Así, el polimorfismo permite reutilizar código y hacer que la programación sea más flexible y extensible.\n",
    "\n",
    "  \n",
    "    \n",
    "\n"
   ]
  },
  {
   "cell_type": "markdown",
   "metadata": {},
   "source": [
    "## Clases y Objetos en Python\n",
    "Para crear una clase en Python usamos la palabra clave class, y dentro de ella definimos un constructor.\n",
    "\n",
    "### El Constructor `__init__` y `self`\n",
    "- `__init__` es el constructor una función especial que se ejecuta automáticamente cuando se crea un objeto.\n",
    "- `self` es una palabra clave que representa al propio objeto. Nos permite acceder a sus atributos y métodos."
   ]
  },
  {
   "cell_type": "code",
   "execution_count": null,
   "metadata": {},
   "outputs": [
    {
     "name": "stdout",
     "output_type": "stream",
     "text": [
      "Hola, mi nombre es Ana y tengo 30 años.\n",
      "<__main__.Persona object at 0x000002566972F6D0>\n"
     ]
    }
   ],
   "source": [
    "class Persona:\n",
    "    def __init__(self, nombre, edad):\n",
    "        self.nombre = nombre  # Atributo de instancia\n",
    "        self.edad = edad  # Atributo de instancia\n",
    "    \n",
    "    def presentarse(self):\n",
    "        return f\"Hola, mi nombre es {self.nombre} y tengo {self.edad} años.\"\n",
    "\n",
    "# Crear un objeto de la clase Persona\n",
    "persona1 = Persona(\"Ana\", 30)\n",
    "print(persona1.presentarse())\n",
    "print(persona1)"
   ]
  },
  {
   "cell_type": "markdown",
   "metadata": {},
   "source": [
    "Si se impreime el objeto directamnete se ve la direccion de memoria para eso hayq ue implementar metodos de impresion `__str__`, existeen mas metodos especiales `__eq__` que comparaciones `__len__` pra tamaño..."
   ]
  },
  {
   "cell_type": "code",
   "execution_count": null,
   "metadata": {},
   "outputs": [
    {
     "name": "stdout",
     "output_type": "stream",
     "text": [
      "Hola, mi nombre es Ana y tengo 30 años.\n",
      "Persona(Ana, 30)\n"
     ]
    }
   ],
   "source": [
    "class Persona:\n",
    "    def __init__(self, nombre, edad):\n",
    "        self.nombre = nombre  # Atributo de instancia\n",
    "        self.edad = edad  # Atributo de instancia\n",
    "    \n",
    "    def presentarse(self):\n",
    "        return f\"Hola, mi nombre es {self.nombre} y tengo {self.edad} años.\"\n",
    "    \n",
    "    def __str__(self):# Método especial que se ejecuta cuando se imprime el objeto o se convierte a cadena de texto\n",
    "        return f\"Persona({self.nombre}, {self.edad})\"\n",
    "\n",
    "# Crear un objeto de la clase Persona\n",
    "persona1 = Persona(\"Ana\", 30)\n",
    "print(persona1.presentarse())\n",
    "print(persona1)"
   ]
  },
  {
   "cell_type": "markdown",
   "metadata": {},
   "source": [
    "### Ejemplo de codigo arca de noe"
   ]
  },
  {
   "cell_type": "code",
   "execution_count": 9,
   "metadata": {},
   "outputs": [
    {
     "name": "stdout",
     "output_type": "stream",
     "text": [
      "<__main__.Perro object at 0x00000256696AC510>\n",
      "Guau Guau\n",
      "Firulais está respirando...\n",
      "<__main__.Gato object at 0x00000256696EDB50>\n",
      "Miau Miau\n",
      "Whiskers está respirando...\n",
      "Whiskers está planeando la dominación mundial...\n",
      "<__main__.Vaca object at 0x00000256696EFC10>\n",
      "Muu Muu\n",
      "Lola está respirando...\n",
      "Lola está dando leche...\n"
     ]
    }
   ],
   "source": [
    "class Animal: # Clase base o superclase Animal que define un comportamiento común para todos los animales+\n",
    "    def __init__(self, nombre: str, edad: int): # Constructor de la clase Animal\n",
    "        self.nombre = nombre\n",
    "        self.edad = edad\n",
    "\n",
    "    def hacer_sonido(self): # Método de la clase Animal que debe ser sobrescrito en las subclases\n",
    "        raise NotImplementedError(\"Este método debe ser sobrescrito en la subclase\") # Lanzar una excepción si no se sobrescribe\n",
    "    \n",
    "    def respirar(self): # Método de la clase Animal que no necesita ser sobrescrito\n",
    "        print(f\"{self.nombre} está respirando...\")\n",
    "\n",
    "\n",
    "class Perro(Animal): # Subclase Perro que hereda de la superclase Animal y sobrescribe el método hacer_sonido\n",
    "    def __init__(self, nombre: str, edad: int, raza: str):\n",
    "        super().__init__(nombre, edad) # Llamar al constructor de la superclase\n",
    "        self.raza = raza # Atributo específico de la subclase Perro que no está en la superclase Animal\n",
    "    \n",
    "    def hacer_sonido(self):\n",
    "        print(\"Guau Guau\")\n",
    "\n",
    "\n",
    "class Gato(Animal):\n",
    "    def __init__(self, nombre: str, edad: int, color_pelo: str):\n",
    "        super().__init__(nombre, edad)\n",
    "        self.color_pelo = color_pelo\n",
    "    \n",
    "    def hacer_sonido(self):\n",
    "        print(\"Miau Miau\")\n",
    "    \n",
    "    def dominar_el_mundo(self):\n",
    "        print(f\"{self.nombre} está planeando la dominación mundial...\")\n",
    "\n",
    "\n",
    "class Vaca(Animal):\n",
    "    def hacer_sonido(self):\n",
    "        print(\"Muu Muu\")\n",
    "    \n",
    "    def dar_leche(self):\n",
    "        print(f\"{self.nombre} está dando leche...\")\n",
    "\n",
    "\n",
    "perro = Perro(\"Firulais\", 5, \"Labrador\")# Crear un objeto de la subclase Perro\n",
    "gato = Gato(\"Whiskers\", 3, \"Negro\")\n",
    "vaca = Vaca(\"Lola\", 4)\n",
    "\n",
    "print(perro)\n",
    "perro.hacer_sonido()\n",
    "perro.respirar()\n",
    "\n",
    "print(gato)\n",
    "gato.hacer_sonido()\n",
    "gato.respirar()\n",
    "gato.dominar_el_mundo()\n",
    "\n",
    "print(vaca)\n",
    "vaca.hacer_sonido()\n",
    "vaca.respirar()\n",
    "vaca.dar_leche()\n",
    "\n"
   ]
  },
  {
   "cell_type": "markdown",
   "metadata": {},
   "source": [
    "## Programación Orientada a Objetos (POO) con dataclass en Python\n",
    "¿Qué es una `dataclass`?\n",
    "En Python, el módulo `dataclasses` nos permite definir clases de forma más sencilla y eficiente. Con `@dataclass`, se generan automáticamente métodos como `__init__`, `__repr__` y `__eq__`, evitando escribir código repetitivo y simplifica mucho la creacion de clases."
   ]
  },
  {
   "cell_type": "code",
   "execution_count": 1,
   "metadata": {},
   "outputs": [
    {
     "name": "stdout",
     "output_type": "stream",
     "text": [
      "Hola, mi nombre es Ana y tengo 30 años.\n",
      "Persona(nombre='Ana', edad=30)\n"
     ]
    }
   ],
   "source": [
    "from dataclasses import dataclass\n",
    "\n",
    "@dataclass\n",
    "class Persona:\n",
    "    nombre: str\n",
    "    edad: int\n",
    "\n",
    "    def presentarse(self):\n",
    "        return f\"Hola, mi nombre es {self.nombre} y tengo {self.edad} años.\"\n",
    "\n",
    "# Crear un objeto\n",
    "persona1 = Persona(\"Ana\", 30)\n",
    "print(persona1.presentarse())\n",
    "print(persona1)\n"
   ]
  },
  {
   "cell_type": "markdown",
   "metadata": {},
   "source": [
    "### Qué cambia?\n",
    "\n",
    "- No necesitamos escribir `__init__`, ya que Python lo genera automáticamente.\n",
    "- `dataclass` gestiona la representación de metodos internos de python"
   ]
  },
  {
   "cell_type": "code",
   "execution_count": 2,
   "metadata": {},
   "outputs": [
    {
     "name": "stdout",
     "output_type": "stream",
     "text": [
      "Perro(nombre='Firulais', edad=5, raza='Labrador')\n",
      "Guau Guau\n",
      "Firulais está respirando...\n",
      "Gato(nombre='Whiskers', edad=3, color_pelo='Negro')\n",
      "Miau Miau\n",
      "Whiskers está respirando...\n",
      "Whiskers está planeando la dominación mundial...\n",
      "Vaca(nombre='Lola', edad=4)\n",
      "Muu Muu\n",
      "Lola está respirando...\n",
      "Lola está dando leche...\n"
     ]
    }
   ],
   "source": [
    "from dataclasses import dataclass\n",
    "from abc import ABC, abstractmethod\n",
    "\n",
    "@dataclass # Animal es una clase abstracta (ABC), lo que obliga a las clases hijas a implementar hablar().\n",
    "class Animal(ABC):\n",
    "    nombre: str\n",
    "    edad: int\n",
    "\n",
    "    @abstractmethod # indicamos que se tiene que implementar\n",
    "    def hacer_sonido(self): \n",
    "        pass\n",
    "    \n",
    "    def respirar(self):\n",
    "        print(f\"{self.nombre} está respirando...\")\n",
    "\n",
    "\n",
    "@dataclass\n",
    "class Perro(Animal):\n",
    "    raza: str\n",
    "    \n",
    "    def hacer_sonido(self):\n",
    "        print(\"Guau Guau\")\n",
    "\n",
    "\n",
    "@dataclass\n",
    "class Gato(Animal):\n",
    "    color_pelo: str\n",
    "    \n",
    "    def hacer_sonido(self):\n",
    "        print(\"Miau Miau\")\n",
    "    \n",
    "    def dominar_el_mundo(self):\n",
    "        print(f\"{self.nombre} está planeando la dominación mundial...\")\n",
    "\n",
    "\n",
    "@dataclass\n",
    "class Vaca(Animal):\n",
    "    def hacer_sonido(self):\n",
    "        print(\"Muu Muu\")\n",
    "    \n",
    "    def dar_leche(self):\n",
    "        print(f\"{self.nombre} está dando leche...\")\n",
    "\n",
    "\n",
    "perro = Perro(\"Firulais\", 5, \"Labrador\")# Crear un objeto de la subclase Perro\n",
    "gato = Gato(\"Whiskers\", 3, \"Negro\")\n",
    "vaca = Vaca(\"Lola\", 4)\n",
    "\n",
    "print(perro)\n",
    "perro.hacer_sonido()\n",
    "perro.respirar()\n",
    "\n",
    "print(gato)\n",
    "gato.hacer_sonido()\n",
    "gato.respirar()\n",
    "gato.dominar_el_mundo()\n",
    "\n",
    "print(vaca)\n",
    "vaca.hacer_sonido()\n",
    "vaca.respirar()\n",
    "vaca.dar_leche()\n",
    "\n"
   ]
  },
  {
   "cell_type": "markdown",
   "metadata": {},
   "source": [
    "Cuando trabajamos con dataclass, podemos personalizar la forma en que se comparan, ordenan y manejan atributos privados usando opciones como `order=True `,  `eq=True `,  `frozen=True `, y  `field() `. "
   ]
  },
  {
   "cell_type": "markdown",
   "metadata": {},
   "source": [
    "### Métodos de Igualdad (eq=True)\n",
    "Por defecto, @dataclass ya genera el método `__eq__`, lo que permite comparar objetos por sus atributos de manera automatica.\n"
   ]
  },
  {
   "cell_type": "code",
   "execution_count": 13,
   "metadata": {},
   "outputs": [
    {
     "name": "stdout",
     "output_type": "stream",
     "text": [
      "True\n",
      "False\n"
     ]
    }
   ],
   "source": [
    "from dataclasses import dataclass\n",
    "\n",
    "@dataclass(eq=True)\n",
    "class Persona:\n",
    "    nombre: str\n",
    "    edad: int\n",
    "\n",
    "p1 = Persona(\"Ana\", 30)\n",
    "p2 = Persona(\"Ana\", 30)\n",
    "p3 = Persona(\"Luis\", 25)\n",
    "\n",
    "print(p1 == p2)  # True, porque tienen los mismos valores\n",
    "print(p1 == p3)  # False, porque tienen valores diferentes\n"
   ]
  },
  {
   "cell_type": "markdown",
   "metadata": {},
   "source": [
    "### Métodos de Orden (order=True)\n",
    "Si queremos que los objetos sean comparables (<, >, <=, >=), podemos usar order=True. El orden depende del orden de los atributos en la clase\n"
   ]
  },
  {
   "cell_type": "code",
   "execution_count": 19,
   "metadata": {},
   "outputs": [
    {
     "name": "stdout",
     "output_type": "stream",
     "text": [
      "True\n",
      "False\n"
     ]
    }
   ],
   "source": [
    "@dataclass(order=True)\n",
    "class Persona:\n",
    "    edad: int\n",
    "    nombre: str  # Orden basado en `edad`, ya que está primero\n",
    "\n",
    "p1 = Persona(30, \"Ana\")\n",
    "p2 = Persona(25, \"Luis\")\n",
    "\n",
    "print(p1 > p2)  # True, porque 30 > 25\n",
    "print(p1 < p2)  # False\n",
    "\n"
   ]
  },
  {
   "cell_type": "code",
   "execution_count": null,
   "metadata": {},
   "outputs": [
    {
     "name": "stdout",
     "output_type": "stream",
     "text": [
      "False\n",
      "True\n"
     ]
    }
   ],
   "source": [
    "from dataclasses import dataclass\n",
    "\n",
    "@dataclass(order=True)\n",
    "class Persona:\n",
    "    nombre: str #\n",
    "    edad: int\n",
    "\n",
    "p1 = Persona(\"Ana\", 30)\n",
    "p2 = Persona(\"Luis\", 25)\n",
    "\n",
    "print(p1 > p2)  # false porque ana es mas pequeña que luis (longitud)\n",
    "print(p1 < p2)"
   ]
  },
  {
   "cell_type": "markdown",
   "metadata": {},
   "source": [
    "Si quisiéramos ordenar por un atributo específico, podemos usar field(compare=False)"
   ]
  },
  {
   "cell_type": "code",
   "execution_count": null,
   "metadata": {},
   "outputs": [
    {
     "name": "stdout",
     "output_type": "stream",
     "text": [
      "True\n",
      "False\n"
     ]
    }
   ],
   "source": [
    "from dataclasses import field\n",
    "\n",
    "@dataclass(order=True)\n",
    "class Persona:\n",
    "    nombre: str = field(compare=False)  # No se comparará\n",
    "    edad: int\n",
    "\n",
    "p1 = Persona(\"Ana\", 30)\n",
    "p2 = Persona(\"Luis\", 25)\n",
    "\n",
    "print(p1 > p2)\n",
    "print(p1 < p2)\n"
   ]
  },
  {
   "cell_type": "markdown",
   "metadata": {},
   "source": [
    "### Atributos Privados\n",
    "Podemos definir atributos que no deben pasarse en la creación del objeto."
   ]
  },
  {
   "cell_type": "code",
   "execution_count": 3,
   "metadata": {},
   "outputs": [
    {
     "name": "stdout",
     "output_type": "stream",
     "text": [
      "Saldo disponible: 500€\n"
     ]
    },
    {
     "data": {
      "text/plain": [
       "500"
      ]
     },
     "execution_count": 3,
     "metadata": {},
     "output_type": "execute_result"
    }
   ],
   "source": [
    "from dataclasses import field\n",
    "\n",
    "@dataclass\n",
    "class CuentaBancaria:\n",
    "    titular: str\n",
    "    _saldo: float = field(default=0, init=False, repr=False)  # Atributo privado se inicializa en 0 y no se muestra en la representación\n",
    "\n",
    "    def depositar(self, cantidad: float):\n",
    "        self._saldo += cantidad\n",
    "    \n",
    "    def retirar(self, cantidad: float):\n",
    "        if cantidad <= self._saldo:\n",
    "            self._saldo -= cantidad\n",
    "        else:\n",
    "            print(\"Fondos insuficientes\")\n",
    "    \n",
    "    def mostrar_saldo(self):\n",
    "        return f\"Saldo disponible: {self._saldo}€\"\n",
    "\n",
    "cuenta = CuentaBancaria(\"Carlos\")# Crear un objeto de la clase CuentaBancaria con un saldo inicial de 0\n",
    "cuenta.depositar(500)\n",
    "print(cuenta.mostrar_saldo())  # Saldo disponible: 500€\n"
   ]
  },
  {
   "cell_type": "markdown",
   "metadata": {},
   "source": [
    "### frozen=True para Objetos Inmutables\n",
    "Si queremos que los objetos sean inmutables, podemos usar frozen=True, lo que impide modificar los atributos después de la creación."
   ]
  },
  {
   "cell_type": "code",
   "execution_count": 24,
   "metadata": {},
   "outputs": [
    {
     "ename": "FrozenInstanceError",
     "evalue": "cannot assign to field 'edad'",
     "output_type": "error",
     "traceback": [
      "\u001b[1;31m---------------------------------------------------------------------------\u001b[0m",
      "\u001b[1;31mFrozenInstanceError\u001b[0m                       Traceback (most recent call last)",
      "Cell \u001b[1;32mIn[24], line 7\u001b[0m\n\u001b[0;32m      4\u001b[0m     edad: \u001b[38;5;28mint\u001b[39m\n\u001b[0;32m      6\u001b[0m p1 \u001b[38;5;241m=\u001b[39m Persona(\u001b[38;5;124m\"\u001b[39m\u001b[38;5;124mAna\u001b[39m\u001b[38;5;124m\"\u001b[39m, \u001b[38;5;241m30\u001b[39m)\n\u001b[1;32m----> 7\u001b[0m \u001b[43mp1\u001b[49m\u001b[38;5;241;43m.\u001b[39;49m\u001b[43medad\u001b[49m \u001b[38;5;241m=\u001b[39m \u001b[38;5;241m31\u001b[39m  \u001b[38;5;66;03m# Esto dará error porque el objeto es inmutable\u001b[39;00m\n",
      "File \u001b[1;32m<string>:4\u001b[0m, in \u001b[0;36m__setattr__\u001b[1;34m(self, name, value)\u001b[0m\n",
      "\u001b[1;31mFrozenInstanceError\u001b[0m: cannot assign to field 'edad'"
     ]
    }
   ],
   "source": [
    "@dataclass(frozen=True)\n",
    "class Persona:\n",
    "    nombre: str\n",
    "    edad: int\n",
    "\n",
    "p1 = Persona(\"Ana\", 30)\n",
    "p1.edad = 31  # Esto dará error porque el objeto es inmutable\n"
   ]
  },
  {
   "cell_type": "markdown",
   "metadata": {},
   "source": [
    "Si quieres que solo algunos atributos sean inmutables, puedes combinar `@dataclass` con `field()`\n",
    "\n",
    "Python no permite que algunos atributos sean frozen mientras otros no, pero podemos lograrlo mediante propiedades"
   ]
  },
  {
   "cell_type": "code",
   "execution_count": null,
   "metadata": {},
   "outputs": [
    {
     "name": "stdout",
     "output_type": "stream",
     "text": [
      "Ana\n",
      "Persona(_nombre='Ana', edad=31)\n"
     ]
    },
    {
     "ename": "AttributeError",
     "evalue": "El nombre no se puede modificar",
     "output_type": "error",
     "traceback": [
      "\u001b[1;31m---------------------------------------------------------------------------\u001b[0m",
      "\u001b[1;31mAttributeError\u001b[0m                            Traceback (most recent call last)",
      "Cell \u001b[1;32mIn[28], line 20\u001b[0m\n\u001b[0;32m     18\u001b[0m p\u001b[38;5;241m.\u001b[39medad \u001b[38;5;241m=\u001b[39m \u001b[38;5;241m31\u001b[39m  \u001b[38;5;66;03m# Se puede modificar\u001b[39;00m\n\u001b[0;32m     19\u001b[0m \u001b[38;5;28mprint\u001b[39m(p)\n\u001b[1;32m---> 20\u001b[0m \u001b[43mp\u001b[49m\u001b[38;5;241;43m.\u001b[39;49m\u001b[43mnombre\u001b[49m \u001b[38;5;241m=\u001b[39m \u001b[38;5;124m\"\u001b[39m\u001b[38;5;124mLuis\u001b[39m\u001b[38;5;124m\"\u001b[39m  \n\u001b[0;32m     21\u001b[0m \u001b[38;5;28mprint\u001b[39m(p)\n",
      "Cell \u001b[1;32mIn[28], line 14\u001b[0m, in \u001b[0;36mPersona.nombre\u001b[1;34m(self, value)\u001b[0m\n\u001b[0;32m     12\u001b[0m \u001b[38;5;129m@nombre\u001b[39m\u001b[38;5;241m.\u001b[39msetter\n\u001b[0;32m     13\u001b[0m \u001b[38;5;28;01mdef\u001b[39;00m \u001b[38;5;21mnombre\u001b[39m(\u001b[38;5;28mself\u001b[39m, value):\n\u001b[1;32m---> 14\u001b[0m     \u001b[38;5;28;01mraise\u001b[39;00m \u001b[38;5;167;01mAttributeError\u001b[39;00m(\u001b[38;5;124m\"\u001b[39m\u001b[38;5;124mEl nombre no se puede modificar\u001b[39m\u001b[38;5;124m\"\u001b[39m)\n",
      "\u001b[1;31mAttributeError\u001b[0m: El nombre no se puede modificar"
     ]
    }
   ],
   "source": [
    "from dataclasses import dataclass, field\n",
    "\n",
    "@dataclass\n",
    "class Persona:\n",
    "    _nombre: str  # Usamos _nombre como atributo privado\n",
    "    edad: int\n",
    "    \n",
    "    @property\n",
    "    def nombre(self):\n",
    "        return self._nombre  # Permite leer el valor\n",
    "    \n",
    "    @nombre.setter # setter para modificar el valor sin llamar al atributo privado\n",
    "    def nombre(self, value):\n",
    "        raise AttributeError(\"El nombre no se puede modificar\")  # Evita cambios\n",
    "\n",
    "p = Persona(\"Ana\", 30)\n",
    "print(p.nombre)  \n",
    "p.edad = 31 \n",
    "print(p)\n",
    "p.nombre = \"Luis\"  \n",
    "print(p)\n",
    "\n",
    "\n"
   ]
  },
  {
   "cell_type": "markdown",
   "metadata": {},
   "source": []
  }
 ],
 "metadata": {
  "kernelspec": {
   "display_name": "Python 3",
   "language": "python",
   "name": "python3"
  },
  "language_info": {
   "codemirror_mode": {
    "name": "ipython",
    "version": 3
   },
   "file_extension": ".py",
   "mimetype": "text/x-python",
   "name": "python",
   "nbconvert_exporter": "python",
   "pygments_lexer": "ipython3",
   "version": "3.11.9"
  }
 },
 "nbformat": 4,
 "nbformat_minor": 2
}
