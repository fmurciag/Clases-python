{
 "cells": [
  {
   "cell_type": "markdown",
   "metadata": {},
   "source": [
    "## 1. Compresión de listas + funciones\n",
    "### Enunciado:\n",
    "Escribe una función que reciba una lista de frases y devuelva solo aquellas que tengan más de 2 palabras y que comiencen con una letra mayúscula.\n",
    "### Resultado esperado:\n",
    "```python\n",
    ">>> filtrar_frases([\"Hola mundo\", \"bien ahí\", \"Esto está bien\", \"hola\"])\n",
    "['Hola mundo', 'Esto está bien']\n",
    "```"
   ]
  },
  {
   "cell_type": "code",
   "execution_count": 23,
   "metadata": {},
   "outputs": [],
   "source": [
    "def filtrar(frase:str):\n",
    "\n",
    "    numero_palabras = len(frase)\n",
    "    if numero_palabras < 2:\n",
    "        frase_larga = frase\n",
    "    return frase_larga\n",
    "\n",
    "frase = [\"Hola mundo\", \"Me cagon tus muertos \", \"a\" ]"
   ]
  },
  {
   "cell_type": "markdown",
   "metadata": {},
   "source": [
    "## 2. Diccionarios y conteo\n",
    "### Enunciado:\n",
    "Dada una lista de palabras, crea un diccionario que cuente cuántas veces aparece cada palabra.\n",
    "### Resultado esperado:\n",
    "```python\n",
    ">>> contar([\"gato\", \"perro\", \"gato\", \"pez\", \"perro\", \"gato\"])\n",
    "{'gato': 3, 'perro': 2, 'pez': 1}\n",
    "\n",
    "```"
   ]
  },
  {
   "cell_type": "code",
   "execution_count": 20,
   "metadata": {},
   "outputs": [
    {
     "ename": "UnboundLocalError",
     "evalue": "local variable 'contador_gato' referenced before assignment",
     "output_type": "error",
     "traceback": [
      "\u001b[1;31m---------------------------------------------------------------------------\u001b[0m",
      "\u001b[1;31mUnboundLocalError\u001b[0m                         Traceback (most recent call last)",
      "Cell \u001b[1;32mIn[20], line 14\u001b[0m\n\u001b[0;32m      9\u001b[0m             contador_pez \u001b[38;5;241m=\u001b[39m contador_pez \u001b[38;5;241m+\u001b[39m \u001b[38;5;241m1\u001b[39m\n\u001b[0;32m     11\u001b[0m     \u001b[38;5;28;01mreturn\u001b[39;00m diccionario \n\u001b[1;32m---> 14\u001b[0m \u001b[43mcontar\u001b[49m\u001b[43m(\u001b[49m\u001b[43m[\u001b[49m\u001b[38;5;124;43m\"\u001b[39;49m\u001b[38;5;124;43mgato\u001b[39;49m\u001b[38;5;124;43m\"\u001b[39;49m\u001b[43m,\u001b[49m\u001b[43m \u001b[49m\u001b[38;5;124;43m\"\u001b[39;49m\u001b[38;5;124;43mperro\u001b[39;49m\u001b[38;5;124;43m\"\u001b[39;49m\u001b[43m,\u001b[49m\u001b[43m \u001b[49m\u001b[38;5;124;43m\"\u001b[39;49m\u001b[38;5;124;43mgato\u001b[39;49m\u001b[38;5;124;43m\"\u001b[39;49m\u001b[43m,\u001b[49m\u001b[43m \u001b[49m\u001b[38;5;124;43m\"\u001b[39;49m\u001b[38;5;124;43mpez\u001b[39;49m\u001b[38;5;124;43m\"\u001b[39;49m\u001b[43m,\u001b[49m\u001b[43m \u001b[49m\u001b[38;5;124;43m\"\u001b[39;49m\u001b[38;5;124;43mperro\u001b[39;49m\u001b[38;5;124;43m\"\u001b[39;49m\u001b[43m,\u001b[49m\u001b[43m \u001b[49m\u001b[38;5;124;43m\"\u001b[39;49m\u001b[38;5;124;43mgato\u001b[39;49m\u001b[38;5;124;43m\"\u001b[39;49m\u001b[43m]\u001b[49m\u001b[43m)\u001b[49m\n",
      "Cell \u001b[1;32mIn[20], line 5\u001b[0m, in \u001b[0;36mcontar\u001b[1;34m(lista)\u001b[0m\n\u001b[0;32m      3\u001b[0m \u001b[38;5;28;01mfor\u001b[39;00m i \u001b[38;5;129;01min\u001b[39;00m lista:\n\u001b[0;32m      4\u001b[0m     \u001b[38;5;28;01mif\u001b[39;00m i \u001b[38;5;241m==\u001b[39m \u001b[38;5;124m\"\u001b[39m\u001b[38;5;124mgato\u001b[39m\u001b[38;5;124m\"\u001b[39m:\n\u001b[1;32m----> 5\u001b[0m         contador_gato \u001b[38;5;241m=\u001b[39m \u001b[43mcontador_gato\u001b[49m \u001b[38;5;241m+\u001b[39m \u001b[38;5;241m1\u001b[39m\n\u001b[0;32m      6\u001b[0m     \u001b[38;5;28;01mif\u001b[39;00m i \u001b[38;5;241m==\u001b[39m \u001b[38;5;124m\"\u001b[39m\u001b[38;5;124mperro\u001b[39m\u001b[38;5;124m\"\u001b[39m:\n\u001b[0;32m      7\u001b[0m         contador_perro \u001b[38;5;241m=\u001b[39m contador_perro \u001b[38;5;241m+\u001b[39m \u001b[38;5;241m1\u001b[39m\n",
      "\u001b[1;31mUnboundLocalError\u001b[0m: local variable 'contador_gato' referenced before assignment"
     ]
    }
   ],
   "source": [
    "def contar(lista:list):\n",
    "    diccionario={}\n",
    "    for i in lista:\n",
    "        if i == \"gato\":\n",
    "            contador_gato = contador_gato + 1\n",
    "        if i == \"perro\":\n",
    "            contador_perro = contador_perro + 1\n",
    "        if i == \"pez\":\n",
    "            contador_pez = contador_pez + 1\n",
    "            \n",
    "    return diccionario \n",
    " \n",
    "\n",
    "contar([\"gato\", \"perro\", \"gato\", \"pez\", \"perro\", \"gato\"])\n"
   ]
  },
  {
   "cell_type": "markdown",
   "metadata": {},
   "source": [
    "## 3. Operaciones con matrices\n",
    "Crea dos matrices A y B de tamaño 2x2. Multiplica ambas con np.dot y calcula la transpuesta del resultado.\n",
    "### Resultado esperado:\n",
    "```python\n",
    "A = [[1, 2], [3, 4]]\n",
    "B = [[5, 6], [7, 8]]\n",
    ">>> dot(A, B) -> [[19, 22], [43, 50]]\n",
    ">>> Transpuesta(dot(A, B))-> [[19, 43], [22, 50]]\n",
    "```"
   ]
  },
  {
   "cell_type": "code",
   "execution_count": null,
   "metadata": {},
   "outputs": [],
   "source": []
  },
  {
   "cell_type": "markdown",
   "metadata": {},
   "source": [
    "## 4. Estadísticas sobre array\n",
    "### Enunciado:\n",
    "Genera un array de 100 números aleatorios entre 0 y 1. Calcula su media, desviación estándar y cuántos son mayores a 0.5.\n",
    "### Resultado esperado:\n",
    "```python\n",
    ">>> estadistica(array) -->\n",
    "Media: 0.49\n",
    "Desviación estándar: 0.28\n",
    "Mayores a 0.5: 47\n",
    "````"
   ]
  },
  {
   "cell_type": "markdown",
   "metadata": {},
   "source": [
    "\n",
    "## 5. Clase con métodos mágicos\n",
    "\n",
    "### Enunciado:\n",
    "Crea una clase `Libro` con atributos `titulo` y `paginas`. Sobrescribe `__len__` para que `len(libro)` devuelva la cantidad de páginas.\n",
    "\n",
    "### Resultado esperado:\n",
    "```python\n",
    ">>> l = Libro(\"Python 101\", 320)\n",
    ">>> len(l)\n",
    "320\n"
   ]
  },
  {
   "cell_type": "markdown",
   "metadata": {},
   "source": [
    "\n",
    "## 6. POO - Herencia\n",
    "### Enunciado:\n",
    "Crea una clase base `Animal` con un método `hablar()`. Crea clases hijas `Perro` y `Gato` que sobrescriban ese método.\n",
    "\n",
    "### Resultado esperado:\n",
    "```python\n",
    ">>> perro = Perro()\n",
    ">>> gato = Gato()\n",
    ">>> perro.hablar()\n",
    "\"Guau\"\n",
    ">>> gato.hablar()\n",
    "\"Miau\"\n",
    "```\n"
   ]
  },
  {
   "cell_type": "markdown",
   "metadata": {},
   "source": [
    "\n",
    "## 7. POO + Lógica Personalizada\n",
    "\n",
    "### Enunciado:\n",
    "Crea una clase `ContadorPalabras` que reciba un texto y tenga métodos para:\n",
    "\n",
    "1. Devolver el número de palabras.\n",
    "2. Devolver la palabra más frecuente.\n",
    "\n",
    "### Resultado esperado:\n",
    "```python\n",
    ">>> c = ContadorPalabras(\"hola hola chau chau chau\")\n",
    ">>> c.total_palabras()\n",
    "5\n",
    ">>> c.palabra_frecuente()\n",
    "'chau'\n",
    "\n",
    "```\n"
   ]
  },
  {
   "cell_type": "markdown",
   "metadata": {},
   "source": [
    "\n",
    "## 8. NumPy - Operaciones lógicas\n",
    "### Enunciado:\n",
    "Genera un array NumPy de 10 números enteros entre 1 y 20. Devuelve un array con solo los números primos.\n",
    "\n",
    "### Resultado esperado:\n",
    "```python\n",
    ">>> array = [3, 4, 7, 10, 11, 13, 16, 17, 19, 20]\n",
    ">>> primos(array)\n",
    "[3, 7, 11, 13, 17, 19]\n",
    "```\n"
   ]
  },
  {
   "cell_type": "markdown",
   "metadata": {},
   "source": [
    "\n",
    "## 9. Análisis de ventas\n",
    "\n",
    "### Enunciado:\n",
    "Tienes el siguiente DataFrame de ventas:\n",
    "```python\n",
    "data = {\n",
    "    'producto': ['A', 'B', 'A', 'C', 'B', 'C', 'A'],\n",
    "    'cantidad': [2, 1, 5, 3, 2, 1, 4],\n",
    "    'precio_unitario': [10, 20, 10, 15, 20, 15, 10],\n",
    "    'fecha': [\n",
    "        '2025-04-01', '2025-04-01', '2025-04-02',\n",
    "        '2025-04-02', '2025-04-03', '2025-04-03',\n",
    "        '2025-04-03'\n",
    "    ]\n",
    "}\n",
    "```\n",
    "\n",
    "Haz lo siguiente:\n",
    "\n",
    "1. Agrega una columna `total_venta = cantidad * precio_unitario`.\n",
    "\n",
    "2. Agrupa por producto y muestra el total vendido.\n",
    "\n",
    "3. Agrupa por fecha y muestra las ventas totales por día.\n",
    "\n",
    "4. ¿Cuál fue el producto más vendido en total?\n",
    "\n",
    "### Resultado esperado:\n",
    "1. Columna `total_venta` agregada\n",
    "\n",
    "2. Totales por producto:\n",
    "   - A → 110\n",
    "   - B → 60\n",
    "   - C → 60\n",
    "\n",
    "3. Ventas por fecha:\n",
    "   - 2025-04-01 → 40\n",
    "   - 2025-04-02 → 95\n",
    "   - 2025-04-03 → 95\n",
    "\n",
    "4. Producto más vendido: **A**\n"
   ]
  },
  {
   "cell_type": "markdown",
   "metadata": {},
   "source": [
    "# Resultados\n",
    "### 1"
   ]
  },
  {
   "cell_type": "code",
   "execution_count": null,
   "metadata": {},
   "outputs": [
    {
     "name": "stdout",
     "output_type": "stream",
     "text": [
      "['Esto está bien', 'Una más aquí']\n"
     ]
    }
   ],
   "source": [
    "def filtrar_frases(frases):\n",
    "    return [f for f in frases if len(f.split()) > 2 and f[0].isupper()]\n",
    "\n",
    "print(filtrar_frases([\"Hola mundo\", \"bien ahí\", \"Esto está bien\", \"hola\", \"Una más aquí\"]))\n"
   ]
  },
  {
   "cell_type": "markdown",
   "metadata": {},
   "source": [
    "### 2"
   ]
  },
  {
   "cell_type": "code",
   "execution_count": null,
   "metadata": {},
   "outputs": [
    {
     "name": "stdout",
     "output_type": "stream",
     "text": [
      "{'gato': 3, 'perro': 2, 'pez': 1}\n"
     ]
    }
   ],
   "source": [
    "def contar(palabras):\n",
    "    conteo = {}\n",
    "    for palabra in palabras:\n",
    "        if palabra in conteo:\n",
    "            conteo[palabra] += 1\n",
    "        else:\n",
    "            conteo[palabra] = 1\n",
    "    return conteo\n",
    "\n",
    "print(contar([\"gato\", \"perro\", \"gato\", \"pez\", \"perro\", \"gato\"]))\n"
   ]
  },
  {
   "cell_type": "code",
   "execution_count": null,
   "metadata": {},
   "outputs": [
    {
     "name": "stdout",
     "output_type": "stream",
     "text": [
      "{'gato': 3, 'perro': 2, 'pez': 1}\n"
     ]
    }
   ],
   "source": [
    "from collections import Counter\n",
    "\n",
    "def contar(palabras):\n",
    "    return dict(Counter(palabras))\n",
    "\n",
    "print(contar([\"gato\", \"perro\", \"gato\", \"pez\", \"perro\", \"gato\"]))\n"
   ]
  },
  {
   "cell_type": "markdown",
   "metadata": {},
   "source": [
    "### 3"
   ]
  },
  {
   "cell_type": "code",
   "execution_count": null,
   "metadata": {},
   "outputs": [
    {
     "name": "stdout",
     "output_type": "stream",
     "text": [
      "Dot:\n",
      " [[19 22]\n",
      " [43 50]]\n",
      "Transpuesta:\n",
      " [[19 43]\n",
      " [22 50]]\n"
     ]
    }
   ],
   "source": [
    "import numpy as np\n",
    "\n",
    "A = np.array([[1, 2], [3, 4]])\n",
    "B = np.array([[5, 6], [7, 8]])\n",
    "\n",
    "resultado = np.dot(A, B)\n",
    "print(\"Dot:\\n\", resultado)\n",
    "\n",
    "transpuesta = resultado.T\n",
    "print(\"Transpuesta:\\n\", transpuesta)"
   ]
  },
  {
   "cell_type": "markdown",
   "metadata": {},
   "source": [
    "### 4"
   ]
  },
  {
   "cell_type": "code",
   "execution_count": null,
   "metadata": {},
   "outputs": [
    {
     "name": "stdout",
     "output_type": "stream",
     "text": [
      "Media: 0.5097559367789497\n",
      "Desviación estándar: 0.2634016375188163\n",
      "Mayores a 0.5: 51\n"
     ]
    }
   ],
   "source": [
    "random_array = np.random.rand(100)\n",
    "\n",
    "print(\"Media:\", np.mean(random_array))\n",
    "print(\"Desviación estándar:\", np.std(random_array))\n",
    "print(\"Mayores a 0.5:\", np.sum(random_array > 0.5))\n"
   ]
  },
  {
   "cell_type": "markdown",
   "metadata": {},
   "source": [
    "### 5 "
   ]
  },
  {
   "cell_type": "code",
   "execution_count": null,
   "metadata": {},
   "outputs": [
    {
     "name": "stdout",
     "output_type": "stream",
     "text": [
      "320\n"
     ]
    }
   ],
   "source": [
    "class Libro:\n",
    "    def __init__(self, titulo, paginas):\n",
    "        self.titulo = titulo\n",
    "        self.paginas = paginas\n",
    "\n",
    "    def __len__(self):\n",
    "        return self.paginas\n",
    "\n",
    "libro = Libro(\"Python 101\", 320)\n",
    "print(len(libro))\n"
   ]
  },
  {
   "cell_type": "markdown",
   "metadata": {},
   "source": [
    "### 6"
   ]
  },
  {
   "cell_type": "code",
   "execution_count": null,
   "metadata": {},
   "outputs": [
    {
     "name": "stdout",
     "output_type": "stream",
     "text": [
      "Guau\n",
      "Miau\n"
     ]
    }
   ],
   "source": [
    "class Animal:\n",
    "    def hablar(self):\n",
    "        return \"Sonido genérico\"\n",
    "\n",
    "class Perro(Animal):\n",
    "    def hablar(self):\n",
    "        return \"Guau\"\n",
    "\n",
    "class Gato(Animal):\n",
    "    def hablar(self):\n",
    "        return \"Miau\"\n",
    "\n",
    "print(Perro().hablar())\n",
    "print(Gato().hablar())\n"
   ]
  },
  {
   "cell_type": "markdown",
   "metadata": {},
   "source": [
    "### 7"
   ]
  },
  {
   "cell_type": "code",
   "execution_count": null,
   "metadata": {},
   "outputs": [
    {
     "name": "stdout",
     "output_type": "stream",
     "text": [
      "Total de palabras: 5\n",
      "Más frecuente: chau\n"
     ]
    }
   ],
   "source": [
    "class ContadorPalabras:\n",
    "    def __init__(self, texto):\n",
    "        self.palabras = texto.split()\n",
    "\n",
    "    def total_palabras(self):\n",
    "        return len(self.palabras)\n",
    "\n",
    "    def palabra_frecuente(self):\n",
    "        return Counter(self.palabras).most_common(1)[0][0]\n",
    "\n",
    "c = ContadorPalabras(\"hola hola chau chau chau\")\n",
    "print(\"Total de palabras:\", c.total_palabras())\n",
    "print(\"Más frecuente:\", c.palabra_frecuente())\n"
   ]
  },
  {
   "cell_type": "markdown",
   "metadata": {},
   "source": [
    "### 8"
   ]
  },
  {
   "cell_type": "code",
   "execution_count": null,
   "metadata": {},
   "outputs": [
    {
     "name": "stdout",
     "output_type": "stream",
     "text": [
      "Array original: [11 15  2 13  9  7  1  9  3 11]\n",
      "Primos encontrados: [np.int32(11), np.int32(2), np.int32(13), np.int32(7), np.int32(3), np.int32(11)]\n"
     ]
    }
   ],
   "source": [
    "def es_primo(n):\n",
    "    if n < 2:\n",
    "        return False\n",
    "    for i in range(2, int(n**0.5) + 1):\n",
    "        if n % i == 0:\n",
    "            return False\n",
    "    return True\n",
    "\n",
    "array = np.random.randint(1, 21, 10)\n",
    "primos = [x for x in array if es_primo(x)]\n",
    "\n",
    "print(\"Array original:\", array)\n",
    "print(\"Primos encontrados:\", primos)\n"
   ]
  },
  {
   "cell_type": "markdown",
   "metadata": {},
   "source": [
    "### 9"
   ]
  },
  {
   "cell_type": "code",
   "execution_count": null,
   "metadata": {},
   "outputs": [
    {
     "name": "stdout",
     "output_type": "stream",
     "text": [
      "DataFrame con total_venta:\n"
     ]
    },
    {
     "data": {
      "text/html": [
       "<div>\n",
       "<style scoped>\n",
       "    .dataframe tbody tr th:only-of-type {\n",
       "        vertical-align: middle;\n",
       "    }\n",
       "\n",
       "    .dataframe tbody tr th {\n",
       "        vertical-align: top;\n",
       "    }\n",
       "\n",
       "    .dataframe thead th {\n",
       "        text-align: right;\n",
       "    }\n",
       "</style>\n",
       "<table border=\"1\" class=\"dataframe\">\n",
       "  <thead>\n",
       "    <tr style=\"text-align: right;\">\n",
       "      <th></th>\n",
       "      <th>producto</th>\n",
       "      <th>cantidad</th>\n",
       "      <th>precio_unitario</th>\n",
       "      <th>fecha</th>\n",
       "      <th>total_venta</th>\n",
       "    </tr>\n",
       "  </thead>\n",
       "  <tbody>\n",
       "    <tr>\n",
       "      <th>0</th>\n",
       "      <td>A</td>\n",
       "      <td>2</td>\n",
       "      <td>10</td>\n",
       "      <td>2025-04-01</td>\n",
       "      <td>20</td>\n",
       "    </tr>\n",
       "    <tr>\n",
       "      <th>1</th>\n",
       "      <td>B</td>\n",
       "      <td>1</td>\n",
       "      <td>20</td>\n",
       "      <td>2025-04-01</td>\n",
       "      <td>20</td>\n",
       "    </tr>\n",
       "    <tr>\n",
       "      <th>2</th>\n",
       "      <td>A</td>\n",
       "      <td>5</td>\n",
       "      <td>10</td>\n",
       "      <td>2025-04-02</td>\n",
       "      <td>50</td>\n",
       "    </tr>\n",
       "    <tr>\n",
       "      <th>3</th>\n",
       "      <td>C</td>\n",
       "      <td>3</td>\n",
       "      <td>15</td>\n",
       "      <td>2025-04-02</td>\n",
       "      <td>45</td>\n",
       "    </tr>\n",
       "    <tr>\n",
       "      <th>4</th>\n",
       "      <td>B</td>\n",
       "      <td>2</td>\n",
       "      <td>20</td>\n",
       "      <td>2025-04-03</td>\n",
       "      <td>40</td>\n",
       "    </tr>\n",
       "    <tr>\n",
       "      <th>5</th>\n",
       "      <td>C</td>\n",
       "      <td>1</td>\n",
       "      <td>15</td>\n",
       "      <td>2025-04-03</td>\n",
       "      <td>15</td>\n",
       "    </tr>\n",
       "    <tr>\n",
       "      <th>6</th>\n",
       "      <td>A</td>\n",
       "      <td>4</td>\n",
       "      <td>10</td>\n",
       "      <td>2025-04-03</td>\n",
       "      <td>40</td>\n",
       "    </tr>\n",
       "  </tbody>\n",
       "</table>\n",
       "</div>"
      ],
      "text/plain": [
       "  producto  cantidad  precio_unitario       fecha  total_venta\n",
       "0        A         2               10  2025-04-01           20\n",
       "1        B         1               20  2025-04-01           20\n",
       "2        A         5               10  2025-04-02           50\n",
       "3        C         3               15  2025-04-02           45\n",
       "4        B         2               20  2025-04-03           40\n",
       "5        C         1               15  2025-04-03           15\n",
       "6        A         4               10  2025-04-03           40"
      ]
     },
     "metadata": {},
     "output_type": "display_data"
    },
    {
     "name": "stdout",
     "output_type": "stream",
     "text": [
      "\n",
      "Ventas por producto:\n"
     ]
    },
    {
     "data": {
      "text/plain": [
       "producto\n",
       "A    110\n",
       "B     60\n",
       "C     60\n",
       "Name: total_venta, dtype: int64"
      ]
     },
     "metadata": {},
     "output_type": "display_data"
    },
    {
     "name": "stdout",
     "output_type": "stream",
     "text": [
      "\n",
      "Ventas por fecha:\n"
     ]
    },
    {
     "data": {
      "text/plain": [
       "fecha\n",
       "2025-04-01    40\n",
       "2025-04-02    95\n",
       "2025-04-03    95\n",
       "Name: total_venta, dtype: int64"
      ]
     },
     "metadata": {},
     "output_type": "display_data"
    },
    {
     "name": "stdout",
     "output_type": "stream",
     "text": [
      "\n",
      "Producto más vendido: A\n"
     ]
    }
   ],
   "source": [
    "import pandas as pd\n",
    "\n",
    "data = {\n",
    "    'producto': ['A', 'B', 'A', 'C', 'B', 'C', 'A'],\n",
    "    'cantidad': [2, 1, 5, 3, 2, 1, 4],\n",
    "    'precio_unitario': [10, 20, 10, 15, 20, 15, 10],\n",
    "    'fecha': [\n",
    "        '2025-04-01', '2025-04-01', '2025-04-02',\n",
    "        '2025-04-02', '2025-04-03', '2025-04-03',\n",
    "        '2025-04-03'\n",
    "    ]\n",
    "}\n",
    "\n",
    "df = pd.DataFrame(data)\n",
    "df['total_venta'] = df['cantidad'] * df['precio_unitario']\n",
    "\n",
    "print(\"DataFrame con total_venta:\")\n",
    "display(df)\n",
    "\n",
    "print(\"\\nVentas por producto:\")\n",
    "display(df.groupby('producto')['total_venta'].sum())\n",
    "\n",
    "print(\"\\nVentas por fecha:\")\n",
    "display(df.groupby('fecha')['total_venta'].sum())\n",
    "\n",
    "producto_mas_vendido = df.groupby('producto')['total_venta'].sum().idxmax()\n",
    "print(\"\\nProducto más vendido:\", producto_mas_vendido)\n",
    "\n"
   ]
  }
 ],
 "metadata": {
  "kernelspec": {
   "display_name": "clases_python_Fran",
   "language": "python",
   "name": "python3"
  },
  "language_info": {
   "codemirror_mode": {
    "name": "ipython",
    "version": 3
   },
   "file_extension": ".py",
   "mimetype": "text/x-python",
   "name": "python",
   "nbconvert_exporter": "python",
   "pygments_lexer": "ipython3",
   "version": "3.9.13"
  }
 },
 "nbformat": 4,
 "nbformat_minor": 2
}
